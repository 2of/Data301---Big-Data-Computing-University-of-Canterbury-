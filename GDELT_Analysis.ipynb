{
  "nbformat": 4,
  "nbformat_minor": 0,
  "metadata": {
    "colab": {
      "name": "assignment_good.ipynb",
      "provenance": [],
      "collapsed_sections": [],
      "mount_file_id": "1K6IWpfVECplTsYgSTp7O8hK1d7_d0z4n",
      "authorship_tag": "ABX9TyPlTIQR/qnloGX7wviO332Q",
      "include_colab_link": true
    },
    "kernelspec": {
      "name": "python3",
      "display_name": "Python 3"
    }
  },
  "cells": [
    {
      "cell_type": "markdown",
      "metadata": {
        "id": "view-in-github",
        "colab_type": "text"
      },
      "source": [
        "<a href=\"https://colab.research.google.com/github/2of/Data301---Big-Data-Computing-University-of-Canterbury-/blob/main/GDELT_Analysis.ipynb\" target=\"_parent\"><img src=\"https://colab.research.google.com/assets/colab-badge.svg\" alt=\"Open In Colab\"/></a>"
      ]
    },
    {
      "cell_type": "markdown",
      "metadata": {
        "id": "Jmrwf8bImfMU"
      },
      "source": [
        "DATA301 Assignment"
      ]
    },
    {
      "cell_type": "code",
      "metadata": {
        "id": "P2NhJ1JxpwpK"
      },
      "source": [
        "WORKING_DIR = \"/content/drive/My Drive/Data301Assignment2020\"\n",
        "ARTICLES = WORKING_DIR + \"/ARTICLES\""
      ],
      "execution_count": null,
      "outputs": []
    },
    {
      "cell_type": "code",
      "metadata": {
        "id": "Q64BewZeHqWa",
        "colab": {
          "base_uri": "https://localhost:8080/",
          "height": 34
        },
        "outputId": "6250de05-cdb8-4b28-f419-60b4587bb02d"
      },
      "source": [
        "!ls"
      ],
      "execution_count": null,
      "outputs": [
        {
          "output_type": "stream",
          "text": [
            "drive  sample_data\n"
          ],
          "name": "stdout"
        }
      ]
    },
    {
      "cell_type": "code",
      "metadata": {
        "id": "vyqr6NrhmeQO",
        "colab": {
          "base_uri": "https://localhost:8080/",
          "height": 578
        },
        "outputId": "ee3bfb76-3bf8-4e3c-e564-8b246e6873d6"
      },
      "source": [
        "''' Setup ''' \n",
        "#library and code setup\n",
        "!apt-get install openjdk-8-jdk-headless -qq > /dev/null\n",
        "!pip install -q pyspark\n",
        "!pip install wget\n",
        "!pip install newspaper3k\n",
        "!pip install gdelt\n",
        "import pyspark, os, sys\n",
        "\n",
        "os.environ[\"JAVA_HOME\"]=\"/usr/lib/jvm/java-8-openjdk-amd64/\"\n",
        "\n",
        "#start spark local server\n",
        "from operator import add\n",
        "import time\n",
        "\n",
        "os.environ[\"PYSPARK_PYTHON\"]=\"python3\"\n",
        "\n",
        "import pyspark\n",
        "from pyspark import SparkConf, SparkContext\n",
        "\n",
        "#connects our python driver to a local Spark JVM running on the Google Colab server virtual machine\n",
        "try:\n",
        "  conf = SparkConf().setMaster(\"local[*]\").set(\"spark.executor.memory\", \"1g\")\n",
        "  sc = SparkContext(conf = conf)\n",
        "except ValueError:\n",
        "  #it's ok if the server is already started\n",
        "  pass\n",
        "\n",
        "def dbg(x):\n",
        "  \"\"\" A helper function to print debugging information on RDDs \"\"\"\n",
        "  if isinstance(x, pyspark.RDD):\n",
        "    print([(t[0], list(t[1]) if \n",
        "            isinstance(t[1], pyspark.resultiterable.ResultIterable) else t[1])\n",
        "           if isinstance(t, tuple) else t\n",
        "           for t in x.take(100)])\n",
        "  else:\n",
        "    print(x)"
      ],
      "execution_count": null,
      "outputs": [
        {
          "output_type": "stream",
          "text": [
            "Requirement already satisfied: wget in /usr/local/lib/python3.6/dist-packages (3.2)\n",
            "Requirement already satisfied: newspaper3k in /usr/local/lib/python3.6/dist-packages (0.2.8)\n",
            "Requirement already satisfied: Pillow>=3.3.0 in /usr/local/lib/python3.6/dist-packages (from newspaper3k) (7.0.0)\n",
            "Requirement already satisfied: jieba3k>=0.35.1 in /usr/local/lib/python3.6/dist-packages (from newspaper3k) (0.35.1)\n",
            "Requirement already satisfied: feedfinder2>=0.0.4 in /usr/local/lib/python3.6/dist-packages (from newspaper3k) (0.0.4)\n",
            "Requirement already satisfied: tinysegmenter==0.3 in /usr/local/lib/python3.6/dist-packages (from newspaper3k) (0.3)\n",
            "Requirement already satisfied: requests>=2.10.0 in /usr/local/lib/python3.6/dist-packages (from newspaper3k) (2.23.0)\n",
            "Requirement already satisfied: cssselect>=0.9.2 in /usr/local/lib/python3.6/dist-packages (from newspaper3k) (1.1.0)\n",
            "Requirement already satisfied: python-dateutil>=2.5.3 in /usr/local/lib/python3.6/dist-packages (from newspaper3k) (2.8.1)\n",
            "Requirement already satisfied: beautifulsoup4>=4.4.1 in /usr/local/lib/python3.6/dist-packages (from newspaper3k) (4.6.3)\n",
            "Requirement already satisfied: nltk>=3.2.1 in /usr/local/lib/python3.6/dist-packages (from newspaper3k) (3.2.5)\n",
            "Requirement already satisfied: PyYAML>=3.11 in /usr/local/lib/python3.6/dist-packages (from newspaper3k) (3.13)\n",
            "Requirement already satisfied: feedparser>=5.2.1 in /usr/local/lib/python3.6/dist-packages (from newspaper3k) (5.2.1)\n",
            "Requirement already satisfied: tldextract>=2.0.1 in /usr/local/lib/python3.6/dist-packages (from newspaper3k) (2.2.2)\n",
            "Requirement already satisfied: lxml>=3.6.0 in /usr/local/lib/python3.6/dist-packages (from newspaper3k) (4.2.6)\n",
            "Requirement already satisfied: six in /usr/local/lib/python3.6/dist-packages (from feedfinder2>=0.0.4->newspaper3k) (1.12.0)\n",
            "Requirement already satisfied: urllib3!=1.25.0,!=1.25.1,<1.26,>=1.21.1 in /usr/local/lib/python3.6/dist-packages (from requests>=2.10.0->newspaper3k) (1.24.3)\n",
            "Requirement already satisfied: certifi>=2017.4.17 in /usr/local/lib/python3.6/dist-packages (from requests>=2.10.0->newspaper3k) (2020.4.5.1)\n",
            "Requirement already satisfied: chardet<4,>=3.0.2 in /usr/local/lib/python3.6/dist-packages (from requests>=2.10.0->newspaper3k) (3.0.4)\n",
            "Requirement already satisfied: idna<3,>=2.5 in /usr/local/lib/python3.6/dist-packages (from requests>=2.10.0->newspaper3k) (2.9)\n",
            "Requirement already satisfied: requests-file>=1.4 in /usr/local/lib/python3.6/dist-packages (from tldextract>=2.0.1->newspaper3k) (1.5.1)\n",
            "Requirement already satisfied: setuptools in /usr/local/lib/python3.6/dist-packages (from tldextract>=2.0.1->newspaper3k) (46.3.0)\n",
            "Requirement already satisfied: gdelt in /usr/local/lib/python3.6/dist-packages (0.1.10.6)\n",
            "Requirement already satisfied: requests in /usr/local/lib/python3.6/dist-packages (from gdelt) (2.23.0)\n",
            "Requirement already satisfied: python-dateutil in /usr/local/lib/python3.6/dist-packages (from gdelt) (2.8.1)\n",
            "Requirement already satisfied: numpy in /usr/local/lib/python3.6/dist-packages (from gdelt) (1.18.4)\n",
            "Requirement already satisfied: pandas>=0.20.3 in /usr/local/lib/python3.6/dist-packages (from gdelt) (1.0.3)\n",
            "Requirement already satisfied: idna<3,>=2.5 in /usr/local/lib/python3.6/dist-packages (from requests->gdelt) (2.9)\n",
            "Requirement already satisfied: certifi>=2017.4.17 in /usr/local/lib/python3.6/dist-packages (from requests->gdelt) (2020.4.5.1)\n",
            "Requirement already satisfied: chardet<4,>=3.0.2 in /usr/local/lib/python3.6/dist-packages (from requests->gdelt) (3.0.4)\n",
            "Requirement already satisfied: urllib3!=1.25.0,!=1.25.1,<1.26,>=1.21.1 in /usr/local/lib/python3.6/dist-packages (from requests->gdelt) (1.24.3)\n",
            "Requirement already satisfied: six>=1.5 in /usr/local/lib/python3.6/dist-packages (from python-dateutil->gdelt) (1.12.0)\n",
            "Requirement already satisfied: pytz>=2017.2 in /usr/local/lib/python3.6/dist-packages (from pandas>=0.20.3->gdelt) (2018.9)\n"
          ],
          "name": "stdout"
        }
      ]
    },
    {
      "cell_type": "markdown",
      "metadata": {
        "id": "OpgoXVmYm5o_"
      },
      "source": [
        "Tool to convert country list to relevant actor1_id in gdelt (returns three letter codes from whatever is in countries"
      ]
    },
    {
      "cell_type": "code",
      "metadata": {
        "id": "U9B8fz4LYao5",
        "colab": {
          "base_uri": "https://localhost:8080/",
          "height": 51
        },
        "outputId": "0b43b7e4-a032-4e98-ab4b-ace5ebfa1a70"
      },
      "source": [
        " !pip install pycountry\n",
        "import pycountry\n",
        "\n",
        "countries= \"\"\"Argentina\n",
        "Australia\n",
        "Belgium\n",
        "China\n",
        "Colombia\n",
        "Czech Republic\n",
        "Denmark\n",
        "El Salvador\n",
        "France\n",
        "Germany\n",
        "India\n",
        "Israel\n",
        "Italy\n",
        "Japan\n",
        "Jordan\n",
        "Kenya\n",
        "Kuwait\n",
        "Malaysia\n",
        "Morocco\n",
        "New Zealand\n",
        "Norway\n",
        "Poland\n",
        "Republic of Ireland\n",
        "Russia\n",
        "Saudi Arabia\n",
        "South Africa\n",
        "Spain\n",
        "UK\"\"\"\n",
        "\n",
        "\n",
        "mapping = {country.name: country.alpha_3 for country in pycountry.countries}\n",
        "country_codes = {mapping.get(a) for a in countries.splitlines()}\n",
        "country_codes.remove(None)\n",
        "set_a = list(country_codes)\n",
        "\n",
        "print(set_a)\n"
      ],
      "execution_count": null,
      "outputs": [
        {
          "output_type": "stream",
          "text": [
            "Requirement already satisfied: pycountry in /usr/local/lib/python3.6/dist-packages (19.8.18)\n",
            "['CHN', 'AUS', 'MAR', 'NZL', 'ZAF', 'NOR', 'COL', 'DNK', 'BEL', 'FRA', 'ISR', 'MYS', 'ITA', 'JOR', 'JPN', 'SLV', 'ESP', 'DEU', 'SAU', 'KWT', 'IND', 'ARG', 'POL', 'KEN']\n"
          ],
          "name": "stdout"
        }
      ]
    },
    {
      "cell_type": "markdown",
      "metadata": {
        "id": "IkYVdyHprU4b"
      },
      "source": [
        "Other Countries in GDELT (i.e. no lockdown)"
      ]
    },
    {
      "cell_type": "code",
      "metadata": {
        "id": "r9HlmsHGt_zN",
        "colab": {
          "base_uri": "https://localhost:8080/",
          "height": 68
        },
        "outputId": "737cac15-ac61-426d-b448-1c4f40aa97b8"
      },
      "source": [
        "# Set the working directory this way\n",
        "%cd content\n",
        "%cd drive/My\\ Drive/Data301Assignment2020/\n",
        "\n",
        "# # ! rm *\n",
        "# %cd ARTICLES\n",
        "# !ls\n",
        "# !rm *\n",
        "# %cd .. \n",
        "\n",
        "# !ls\n",
        "# # !ls\n",
        "\n"
      ],
      "execution_count": null,
      "outputs": [
        {
          "output_type": "stream",
          "text": [
            "[Errno 2] No such file or directory: 'content'\n",
            "/content\n",
            "/content/drive/My Drive/Data301Assignment2020\n"
          ],
          "name": "stdout"
        }
      ]
    },
    {
      "cell_type": "code",
      "metadata": {
        "id": "ZFEyuYsJnlT8",
        "colab": {
          "base_uri": "https://localhost:8080/",
          "height": 102
        },
        "outputId": "9310062c-bc29-4388-9a99-d71686881ecc"
      },
      "source": [
        "main_list = ['CHN', 'AUS', 'BEL', 'CAN', 'USA', 'NZL', 'LKA', 'RUS', 'TUR', 'UZB', 'ZWE', 'AFG', 'ARG', 'AZE', 'BEN', 'BGD', 'BMU', 'BRA', 'BRN', 'CHE', 'CHL', 'COL', 'CUB', 'CYP', 'DEU', 'DNK', 'EGY', 'ESP', 'EUR', 'FRA', 'GBR', 'GHA', 'GRC', 'GUY', 'IDN', 'WST', 'IND', 'IRL', 'IRN', 'IRQ', 'ISL', 'ISR', 'JAM', 'JOR', 'JPN', 'KAZ', 'KEN', 'KOR', 'LBN', 'LBY', 'MEX', 'MKD', 'MMR', 'MWI', 'MYS', 'NGA', 'NLD', 'PER', 'PHL', 'POL', 'PRK', 'PRT', 'PSE', 'QAT', 'SAU', 'SGP', 'SWE', 'SYR', 'THA', 'TKM', 'TWN', 'TZA', 'VEN', 'VNM', 'YEM', 'ZAF']\n",
        "\n",
        "import numpy as np\n",
        "no_unrest = np.setdiff1d(main_list,set_a) # may also contain error country codes, coutnry codes that GDELT doesnt care about\n",
        "print(no_unrest,len(no_unrest))"
      ],
      "execution_count": null,
      "outputs": [
        {
          "output_type": "stream",
          "text": [
            "['AFG' 'AZE' 'BEN' 'BGD' 'BMU' 'BRA' 'BRN' 'CAN' 'CHE' 'CHL' 'CUB' 'CYP'\n",
            " 'EGY' 'EUR' 'GBR' 'GHA' 'GRC' 'GUY' 'IDN' 'IRL' 'IRN' 'IRQ' 'ISL' 'JAM'\n",
            " 'KAZ' 'KOR' 'LBN' 'LBY' 'LKA' 'MEX' 'MKD' 'MMR' 'MWI' 'NGA' 'NLD' 'PER'\n",
            " 'PHL' 'PRK' 'PRT' 'PSE' 'QAT' 'RUS' 'SGP' 'SWE' 'SYR' 'THA' 'TKM' 'TUR'\n",
            " 'TWN' 'TZA' 'USA' 'UZB' 'VEN' 'VNM' 'WST' 'YEM' 'ZWE'] 57\n"
          ],
          "name": "stdout"
        }
      ]
    },
    {
      "cell_type": "markdown",
      "metadata": {
        "id": "WrhGsLAzqMsK"
      },
      "source": [
        "Create Files\n"
      ]
    },
    {
      "cell_type": "code",
      "metadata": {
        "id": "c5jvpnvrqLUZ",
        "colab": {
          "base_uri": "https://localhost:8080/",
          "height": 34
        },
        "outputId": "d8b4e144-5255-4c25-92c1-a28e6356b6e3"
      },
      "source": [
        "upper_date_bound = \"2020 April 14\"\n",
        "lower_date_bound = \"2020 April 1\"\n",
        "!pip install wget\n",
        "from concurrent.futures import ProcessPoolExecutor\n",
        "from datetime import date, timedelta\n",
        "import pandas as pd\n",
        "import gdelt\n",
        "import os\n",
        "\n",
        "# set up gdeltpyr for version 2\n",
        "gd = gdelt.gdelt(version=2)\n",
        "\n",
        "# multiprocess the query\n",
        "e = ProcessPoolExecutor()\n",
        "\n",
        "\n",
        "# generic functions to pull and write data to disk based on date\n",
        "def get_filename(x):\n",
        "  date = x.strftime('%Y%m%d')\n",
        "  return \"{}.csv\".format(date)\n",
        "\n",
        "def intofile(filename):\n",
        "    try:\n",
        "        if not os.path.exists(filename):\n",
        "          date = filename.split(\".\")[0]\n",
        "          d = gd.Search(date, table='events',coverage=False) #not updata at 15mins\n",
        "          d.to_csv(filename,encoding='utf-8',index=False)\n",
        "    except:\n",
        "        print(\"Error occurred\")\n",
        "\n",
        "# pull the data from gdelt into multi files; this may take a long time\n",
        "dates = [get_filename(x) for x in pd.date_range(lower_date_bound,upper_date_bound)]\n",
        "\n",
        "\n",
        "results = list(e.map(intofile,dates))\n"
      ],
      "execution_count": null,
      "outputs": [
        {
          "output_type": "stream",
          "text": [
            "Requirement already satisfied: wget in /usr/local/lib/python3.6/dist-packages (3.2)\n"
          ],
          "name": "stdout"
        }
      ]
    },
    {
      "cell_type": "code",
      "metadata": {
        "id": "b6PMg5lLXUi4"
      },
      "source": [
        "from pyspark.sql import SQLContext\n",
        "sqlContext = SQLContext(sc)\n",
        "\n",
        "\n",
        "data_urls = sqlContext.read.option(\"header\", \"true\").csv(WORKING_DIR + \"/*.csv\")\n",
        "df = data_urls.select('Actor1CountryCode',\"EVENTCODE\",\"SOURCEURL\",\"AvgTone\")\n",
        "\n",
        "file_info = df.rdd.map(lambda x: ((x[0],x[1],x[3]),x[2]))\n",
        "file_info = file_info.filter(lambda x: (x[0][0] != None))\n",
        "\n",
        "\n"
      ],
      "execution_count": null,
      "outputs": []
    },
    {
      "cell_type": "markdown",
      "metadata": {
        "id": "nAhwwh4kybq3"
      },
      "source": [
        "#Categorization"
      ]
    },
    {
      "cell_type": "code",
      "metadata": {
        "id": "XkL6_oFyWZQG",
        "colab": {
          "base_uri": "https://localhost:8080/",
          "height": 156
        },
        "outputId": "ea8e76fb-5f56-459e-98c2-f56c1aebc223"
      },
      "source": [
        "import itertools,operator\n",
        "import numpy as np\n",
        "\n",
        "%cd KEYWORDS/\n",
        "!ls \n",
        "\n",
        "\n",
        "keys = ['healthcare','laws','politics','police','economy','education','international_relations','general_public_interest']\n",
        "def make_big_dictionary():\n",
        "  files = ['economy','healthcare','economy','laws','police','politics','welfare']\n",
        "  model = {}\n",
        "  \n",
        "  for f in files: \n",
        "    try:\n",
        "      a = open(f+\".txt\").readlines()\n",
        "      for k in a:\n",
        "        model[k.replace('\\n','')] = f\n",
        "    except:\n",
        "      pass\n",
        "\n",
        "  return model\n",
        "print(make_big_dictionary())\n",
        "\n",
        "\n",
        "\n",
        "def convert_to_dictionary():\n",
        "  '''The keywords are categorized as a dictionary instead of having to lookup in each one, should yield performance improvements'''\n",
        "  model = {}\n",
        "  healthcare = {'doctor','hospital','medical','health','nurse','equipment','dying','patients','health'}\n",
        "  laws = {'legistlation','referendum','legal','laws'}\n",
        "  politics = {\"leader\",'majority','opposition'}\n",
        "  police = {'laws','secutity','protest','unrest',}\n",
        "  economy = {'fiancial','security','ratepayers','economic'}\n",
        "  education = {'school','teacher','education','learning'}\n",
        "  international_relations = {'emmigration','immigration','international','relations'}\n",
        "  general_public_interest ={'work','family'}\n",
        "  all_sets = [healthcare,laws,politics,police,economy,education,international_relations,general_public_interest]\n",
        "  keys = ['healthcare','laws','politics','police','economy','education','international_relations','general_public_interest']\n",
        "\n",
        "  for i in range(0,len(all_sets)):\n",
        "    candidate = list(all_sets[i])\n",
        "    for keyword in candidate:\n",
        "      model[keyword] = keys[i]\n",
        "\n",
        "\n",
        "  return model\n",
        "\n",
        "b = ['hungarys', 'charlemagne', 'hungarian', 'viktor', 'parties', 'european', 'orban', 'gets', 'away', 'mr', 'legal', 'leader', 'eu', 'majority', 'opposition', 'orbans']\n",
        "b = (('HUN', '051', '-3.66541353383459'), ['hungarys', 'charlemagne', 'hungarian', 'viktor', 'parties', 'european', 'orban', 'gets', 'away', 'mr', 'legal', 'leader', 'eu', 'majority', 'opposition', 'orbans'])\n",
        "\n",
        "def make_relevance_vector(a):\n",
        "  relevance = {key:0 for key in keys}\n",
        "  for each in a: \n",
        "    try:\n",
        "      match = model[each]\n",
        "      relevance[match] = relevance[match] + 1\n",
        "    except:\n",
        "      pass\n",
        "  return np.array(list(relevance.values()))\n",
        "\n",
        "\n",
        "def protest_to_dict():\n",
        "  model = {}\n",
        "  try: \n",
        "    a = open(\"protest.txt\").readlines()\n",
        "    return set([k.replace('\\n','') for k in a])\n",
        "  except:\n",
        "    return {}\n",
        "\n",
        "\n",
        "\n",
        "def make_relevance_vector_protest(a):\n",
        "  relevance = 0\n",
        "  for each in a: \n",
        "    if each in protmodel:\n",
        "      relevance += 1\n",
        "  return np.array([relevance,1])\n",
        "\n",
        "\n",
        "\n",
        "  bb = list(relevance.values())\n",
        "  bb.append(1) #the final value used for counts\n",
        "  return np.array(bb)\n",
        "  \n",
        "model = make_big_dictionary()\n",
        "protmodel = protest_to_dict()\n",
        "print(protmodel)\n",
        "\n",
        "\n",
        "\n",
        "print (make_relevance_vector(b))\n",
        "def in_place_group_by_key(l):\n",
        "    it = itertools.groupby(l, operator.itemgetter(0))\n",
        "    for key, subiter in it:\n",
        "       yield key, sum(item[1] for item in subiter) \n",
        "\n"
      ],
      "execution_count": null,
      "outputs": [
        {
          "output_type": "stream",
          "text": [
            "[Errno 2] No such file or directory: 'KEYWORDS/'\n",
            "/content/drive/My Drive/Data301Assignment2020/KEYWORDS\n",
            "economy.txt\t health.txt  out.csv\t politics.txt  welfare.txt\n",
            "healthcarewords  laws.txt    police.txt  protest.txt\n",
            "{'economics': 'welfare', 'economic': 'economy', 'saving': 'economy', 'sector': 'economy', 'demand': 'economy', 'currency': 'economy', 'inflation': 'economy', 'finance': 'economy', 'goods': 'economy', 'financial': 'economy', 'gdp': 'economy', 'trade': 'economy', 'production': 'economy', 'consumption': 'economy', 'thriftiness': 'economy', 'barter': 'economy', 'distribution': 'economy', 'economic system': 'economy', 'market economy': 'economy', 'service': 'economy', 'good': 'welfare', 'growth': 'economy', 'recession': 'economy', 'slowing': 'economy', 'recovery': 'economy', 'market': 'economy', 'downturn': 'economy', 'slowdown': 'economy', 'unemployment': 'welfare', 'crisis': 'economy', 'economist': 'economy', 'markets': 'economy', 'global': 'economy', 'consumer': 'economy', 'prices': 'economy', 'outlook': 'economy', 'weakening': 'economy', 'exports': 'economy', 'country': 'politics', 'fiscal': 'economy', 'nation': 'economy', 'competitiveness': 'economy', 'sentiment': 'economy', 'protectionism': 'economy', 'globalization': 'economy', 'real versus nominal value': 'economy', 'agriculture': 'economy', 'infrastructure': 'economy', 'capitalism': 'economy', 'trading': 'economy', 'service sector': 'economy', 'technology': 'economy', 'innovation': 'economy', 'economical': 'economy', 'supply': 'economy', 'system': 'laws', 'scheme': 'economy', 'industrialism': 'economy', 'efficiency': 'economy', 'frugality': 'economy', 'retrenchment': 'economy', 'downsizing': 'economy', 'curtailment': 'economy', 'action': 'economy', 'credit': 'economy', 'debit': 'economy', 'value': 'economy', 'economize': 'economy', 'thrifty': 'economy', 'sociology': 'economy', 'saver': 'economy', 'history': 'laws', 'save': 'economy', 'anthropology': 'economy', 'frugal': 'economy', 'geography': 'economy', 'frugalness': 'economy', 'economically': 'economy', 'economies': 'economy', 'europe': 'economy', 'sluggish': 'economy', 'rise': 'economy', 'conservation': 'welfare', 'weak': 'economy', 'rising': 'economy', 'domestic': 'economy', 'spending': 'welfare', 'engineering': 'economy', 'stronger': 'economy', 'conserve': 'economy', 'trend': 'economy', 'boost': 'economy', 'low-carbon': 'economy', 'management': 'economy', 'confidence': 'economy', 'decline': 'economy', 'growing': 'economy', 'rapidly': 'economy', 'dramatically': 'economy', 'industry': 'economy', 'impact': 'economy', 'poor': 'welfare', 'emerging': 'economy', 'expectations': 'economy', 'robust': 'economy', 'shrinking': 'economy', 'slow': 'economy', 'profession': 'economy', 'steady': 'economy', 'worries': 'economy', 'improving': 'economy', 'surplus': 'economy', 'turmoil': 'economy', 'falling': 'economy', 'pushed': 'economy', 'prospects': 'economy', 'fall': 'economy', 'partly': 'economy', 'declining': 'economy', 'slump': 'economy', 'accelerating': 'economy', 'interest': 'welfare', 'sectors': 'economy', 'balance': 'economy', 'stability': 'economy', 'productivity': 'economy', 'increase': 'economy', 'weaker': 'economy', 'rates': 'economy', 'worried': 'economy', 'concern': 'economy', 'concerns': 'economy', 'ease': 'economy', 'driven': 'economy', 'pushing': 'economy', 'slowed': 'economy', 'expanding': 'economy', 'stabilize': 'economy', 'reforms': 'welfare', 'rate': 'economy', 'industrial': 'economy', 'sees': 'economy', 'borrowing': 'economy', 'struggling': 'economy', 'steadily': 'economy', 'strong': 'economy', 'worse': 'economy', 'forecast': 'economy', 'deficit': 'economy', 'predicted': 'economy', 'decade': 'economy', 'woes': 'economy', 'change': 'economy', 'sharply': 'economy', 'conservator': 'economy', 'increasing': 'economy', 'current': 'economy', 'worsening': 'economy', 'economizer': 'economy', 'analysts': 'economy', 'investment': 'economy', 'autosave': 'economy', 'preservation': 'economy', 'preserve': 'economy', 'keep': 'economy', 'industrial relations': 'economy', 'keeper': 'economy', 'child labor': 'economy', 'sumer': 'economy', 'universal access to education': 'economy', 'market-based economy': 'economy', 'babylonians': 'economy', 'retain': 'economy', 'safeguard': 'welfare', 'defend': 'economy', 'bergh': 'economy', 'debt': 'economy', 'savior': 'economy', 'defender': 'economy', 'guardian': 'economy', 'preserver': 'economy', 'mixed economy': 'economy', 'black economy': 'economy', 'free enterprise': 'economy', 'laissez-faire economy': 'economy', 'private enterprise': 'economy', 'state socialism': 'economy', 'non-market economy': 'economy', 'jurisprudence': 'laws', 'constitution': 'laws', 'state': 'welfare', 'canon law': 'laws', 'civil law': 'laws', 'common law': 'laws', 'statute': 'laws', 'natural law': 'laws', 'rule': 'laws', 'legislation': 'welfare', 'lawyer': 'laws', 'police': 'politics', 'practice of law': 'laws', 'public law': 'laws', 'case law': 'laws', 'justice': 'politics', 'court': 'laws', 'recusation': 'laws', 'law enforcement': 'police', 'law of nature': 'laws', 'sharia law': 'police', 'regulation': 'laws', 'international law': 'laws', 'legal profession': 'laws', 'torah': 'laws', 'rule of law': 'laws', 'sharia': 'laws', 'tort': 'laws', 'precedent': 'laws', 'code of hammurabi': 'laws', 'old testament': 'laws', 'courts': 'laws', 'derogation': 'laws', 'lawmaking': 'politics', 'impoundment': 'laws', 'subrogation': 'laws', 'philosophy': 'laws', 'champerty': 'laws', 'concept': 'laws', 'conception': 'laws', 'construct': 'laws', 'principle': 'politics', 'bill': 'laws', 'disbarment': 'laws', 'administrative law': 'laws', 'rights': 'laws', 'legal': 'laws', 'gag law': 'laws', 'riot act': 'laws', 'fundamental law': 'laws', 'false pretense': 'laws', \"hubble's law\": 'laws', 'blue law': 'laws', 'pauli exclusion principle': 'laws', 'sexual assault': 'police', 'blue sky law': 'laws', \"boyle's law\": 'laws', 'contract law': 'laws', 'law of gravitation': 'laws', 'legal code': 'laws', 'jurisdiction': 'police', \"kepler's law\": 'laws', \"ohm's law\": 'laws', \"dalton's law\": 'laws', 'trust law': 'laws', 'civil society': 'laws', 'organic law': 'laws', 'aristotle': 'politics', 'constabulary': 'police', 'magna carta': 'laws', 'max weber': 'laws', 'government': 'welfare', 'decree': 'laws', 'shariah': 'laws', 'statute law': 'laws', 'halakha': 'laws', 'byzantine empire': 'laws', 'police force': 'police', 'legal philosophy': 'laws', 'ordinance': 'laws', 'legislature': 'laws', 'barrister': 'laws', 'punishment': 'laws', 'prohibition': 'laws', 'enactment': 'laws', 'litigant': 'laws', 'barratry': 'laws', 'statute book': 'laws', 'penal code': 'laws', 'hammurabi': 'laws', 'constitutional': 'laws', 'lord chancellor': 'laws', 'law firm': 'laws', 'immigration': 'welfare', 'policy': 'welfare', 'congress': 'laws', 'posse comitatus': 'police', 'judicial review': 'laws', 'criminal': 'police', 'socialist law': 'laws', 'judicial': 'laws', 'religious law': 'laws', 'fine': 'laws', 'authority': 'laws', 'regulations': 'laws', 'amendment': 'laws', 'custom': 'laws', 'bar association': 'laws', 'provisions': 'laws', 'guidelines': 'laws', 'personal property': 'laws', 'real property': 'laws', 'constitutional law': 'laws', 'counsel': 'laws', 'judge': 'laws', 'ancient greece': 'laws', 'absolute monarchy': 'laws', 'babylonian law': 'laws', 'justinian i': 'laws', 'bürgerliches gesetzbuch': 'laws', 'interpretivism': 'laws', 'british empire': 'laws', 'nuisance': 'laws', 'code civil': 'laws', 'pentateuch': 'laws', 'treatise on law': 'laws', 'codification': 'laws', 'bureaucracy': 'laws', 'the concept of law': 'laws', 'constitutionality': 'laws', 'behavior': 'laws', 'contract': 'laws', 'paralegal': 'laws', 'mandamus': 'laws', 'eviction': 'laws', 'politics': 'politics', 'legalization': 'laws', 'society': 'laws', 'certiorari': 'laws', 'nom': 'laws', 'contumacy': 'laws', 'lawmaker': 'laws', 'demurrer': 'laws', 'notary': 'laws', 'amnesty': 'laws', 'solicitor': 'laws', 'probate': 'laws', 'guilt': 'laws', 'jurist': 'laws', 'lawgiver': 'laws', 'delict': 'laws', 'lawsuits': 'laws', 'juridical': 'politics', 'damages': 'laws', 'fuero': 'laws', 'derivative': 'laws', 'programma': 'laws', 'intestate': 'laws', 'sequestration': 'laws', 'entrapment': 'laws', 'alibi': 'laws', 'forensic': 'laws', 'leader': 'laws', 'military': 'police', 'sheriff': 'police', 'constable': 'police', 'law': 'welfare', 'patrol': 'police', 'police officer': 'police', 'arrest': 'police', 'gendarmerie': 'police', 'officer': 'police', 'policeman': 'police', 'crime': 'police', 'france': 'police', 'fire': 'police', 'paramilitary': 'police', 'united states': 'police', 'riot': 'police', 'law enforcement agency': 'police', 'new york city': 'police', 'bow street runners': 'police', 'personnel': 'police', 'guard': 'police', 'trooper': 'police', 'royal canadian mounted police': 'police', 'united states park police': 'police', 'mounties': 'police', 'gendarmery': 'police', 'officers': 'police', 'spain': 'police', 'authorities': 'police', 'civilian': 'police', 'official': 'police', 'witnesses': 'police', 'enforcement': 'police', 'police corruption': 'police', 'crime prevention': 'police', 'investigators': 'police', 'assailants': 'police', 'suspects': 'police', 'incident': 'police', 'army': 'police', 'detectives': 'police', 'prosecutors': 'police', 'ireland': 'police', 'plainclothes': 'police', 'gunman': 'police', 'baton': 'police', 'constable of france': 'police', 'sergeant': 'police', 'london': 'police', 'metropolitan police act 1829': 'police', 'henry fielding': 'police', 'australia': 'police', 'coastguard': 'police', 'marine police force': 'police', 'patrick colquhoun': 'police', 'magistrate': 'police', 'canada': 'police', 'john fielding': 'police', 'robert peel': 'police', 'jeremy bentham': 'police', 'homicide': 'police', 'handcuffs': 'police', 'criminal law': 'police', 'new south wales police force': 'police', 'emergency': 'police', 'ranger': 'police', 'polis': 'politics', 'chu': 'police', 'jin': 'police', 'athens': 'police', 'scythian': 'police', 'criminals': 'police', 'military police': 'police', 'italy': 'police', 'quaestor': 'police', 'augustus': 'welfare', 'ward': 'police', 'force': 'politics', 'ss': 'police', 'schutzstaffel': 'police', 'rcmp': 'police', 'posse': 'police', 'hermandad': 'police', 'bandit': 'police', 'nobility': 'police', 'galicia': 'police', 'protection': 'welfare', 'villarreal': 'police', 'detective': 'police', 'england': 'police', 'tithing': 'police', 'jury': 'police', 'constables': 'police', 'gun': 'police', 'policemen': 'police', 'reeve': 'police', 'vigiles': 'police', 'illness': 'welfare', 'paris': 'police', 'parlement': 'police', 'europol': 'police', \"mutawa'een\": 'police', 'mutawa': 'police', 'guards': 'police', 'arrested': 'police', 'loanword': 'police', 'soldiers': 'police', 'injury': 'police', 'officials': 'police', 'attacked': 'police', 'gunmen': 'police', 'killing': 'police', 'attackers': 'police', 'outside': 'police', 'detained': 'police', 'supreme court of the united states': 'police', 'dublin': 'police', 'embassy': 'police', 'armed': 'police', 'sydney': 'police', 'killed': 'police', 'charged': 'police', 'suspected': 'police', 'attack': 'police', 'suspect': 'police', 'investigating': 'police', 'glasgow': 'police', 'ordered': 'police', 'car': 'police', 'dozens': 'police', 'taken': 'police', 'scotland': 'police', 'civilians': 'police', 'wounded': 'police', 'raid': 'police', 'security': 'welfare', 'charge': 'police', 'afp': 'police', 'arrests': 'police', 'fired': 'police', 'accused': 'police', 'unidentified': 'police', 'searched': 'police', 'bomb': 'police', 'agents': 'police', 'injured': 'police', 'thief-taker': 'police', 'raided': 'police', 'consulate': 'police', 'journalists': 'police', 'investigate': 'police', 'approached': 'police', 'shooting': 'police', 'allegedly': 'police', 'carried': 'police', 'apparently': 'police', 'alerted': 'police', 'denied': 'police', 'witness': 'police', 'wounding': 'police', 'involved': 'police', 'responsible': 'police', 'immediately': 'police', 'investigation': 'police', 'assault': 'police', 'firing': 'police', 'others': 'police', 'office': 'police', 'jail': 'police', 'alleged': 'police', 'cordoned': 'police', 'diplomatic': 'politics', 'political science': 'politics', 'diplomatical': 'politics', 'governance': 'welfare', 'republic': 'politics', 'public administration': 'politics', 'politician': 'politics', 'smooth': 'politics', 'suave': 'politics', 'local government': 'politics', 'political system': 'politics', 'expedient': 'politics', 'sagacious': 'politics', 'election': 'politics', 'political': 'politics', 'monarchy': 'politics', 'parliament': 'politics', 'dukes': 'politics', 'sovereign state': 'politics', 'polity': 'politics', 'regime': 'politics', 'democratic': 'politics', 'ethics': 'politics', 'communism': 'politics', 'federation': 'politics', 'anarchism': 'politics', 'authoritarianism': 'politics', 'populism': 'politics', 'bland': 'politics', 'aristocracy': 'politics', 'federal government': 'politics', 'tribe': 'politics', 'power': 'politics', 'negotiation': 'politics', 'adam smith': 'politics', 'warfare': 'politics', 'city': 'politics', 'clans': 'politics', 'tribes': 'politics', 'company': 'politics', 'plato': 'politics', 'confucius': 'politics', 'latin': 'politics', 'kingship': 'politics', 'earls': 'politics', 'politically': 'politics', 'counts': 'politics', 'tribute': 'politics', 'lordship': 'politics', 'property': 'politics', 'inheritance': 'politics', 'united nations': 'politics', 'confiscation': 'politics', 'individualist': 'politics', 'allegiance': 'politics', 'espionage': 'politics', 'conspiracy': 'politics', 'treason': 'politics', 'jewish': 'politics', 'gentile': 'politics', 'convention': 'politics', 'observance': 'politics', 'celibacy': 'politics', 'pope': 'politics', 'taxation': 'welfare', 'petition': 'politics', 'majority': 'politics', 'collegial': 'politics', 'permeates': 'politics', 'greek language': 'politics', 'flabby': 'politics', 'permeating': 'politics', 'communication': 'politics', 'commerce': 'politics', 'governmental': 'welfare', 'pervades': 'politics', 'permeated': 'politics', 'abstract': 'politics', 'straitjacket': 'politics', 'myopic': 'politics', 'discernment': 'politics', 'curfew': 'politics', 'consciences': 'politics', 'revenue': 'politics', 'pervading': 'politics', 'pervade': 'politics', 'matriarchal': 'politics', 'numbed': 'politics', 'rightness': 'politics', 'unaccountable': 'politics', 'clannish': 'politics', 'civilised': 'politics', 'transfigured': 'politics', 'deliberative': 'politics', 'monopoly': 'politics', 'fatness': 'politics', 'paternalism': 'politics', 'monkish': 'politics', 'coin': 'politics', 'sinfulness': 'politics', 'perverted': 'politics', 'morass': 'politics', 'permeate': 'politics', 'politicized': 'politics', 'stuffy': 'politics', 'timorous': 'politics', 'meddles': 'politics', 'attuned': 'politics', 'factious': 'politics', 'disentangle': 'politics', 'international politics': 'politics', 'delving': 'politics', 'grayness': 'politics', 'etheric': 'politics', 'blandness': 'politics', 'indigent': 'politics', 'ingrained': 'politics', 'putrefying': 'politics', 'expediency': 'politics', 'calcified': 'politics', 'comity': 'politics', 'disentangling': 'politics', 'unclothed': 'politics', 'subjectivity': 'politics', 'disordered': 'politics', 'crystallizing': 'politics', 'manifesting': 'politics', 'transitory': 'politics', 'enmeshed': 'politics', 'guild': 'politics', 'cesspool': 'politics', 'disinterested': 'politics', 'psyche': 'politics', 'redefining': 'politics', 'fleshly': 'politics', 'quicksand': 'politics', 'egoism': 'politics', 'peculiarly': 'politics', 'diplomat': 'politics', 'colonies': 'politics', 'agreement': 'politics', 'ancient greek': 'politics', 'french revolution': 'politics', 'early modern english': 'politics', 'profit': 'politics', 'policy-making': 'politics', 'modern english': 'politics', 'education': 'welfare', 'decisionmaking': 'politics', 'democracy': 'politics', 'middle french': 'politics', 'benefit': 'welfare', 'health': 'welfare', 'wellbeing': 'welfare', 'medicare': 'welfare', 'assistance': 'welfare', 'aid': 'welfare', 'prosperity': 'welfare', 'charitable organization': 'welfare', 'poverty': 'welfare', 'wellness': 'welfare', 'tax': 'welfare', 'medicaid': 'welfare', 'upbeat': 'welfare', 'well-being': 'welfare', 'social welfare': 'welfare', 'welfare state': 'welfare', 'sake': 'welfare', 'relief': 'welfare', 'charity': 'welfare', 'care': 'welfare', 'social': 'welfare', 'income': 'welfare', 'entitlements': 'welfare', 'benefits': 'welfare', 'subsidies': 'welfare', 'goodness': 'welfare', 'insurance': 'welfare', 'disability': 'welfare', 'elderly': 'welfare', 'pensions': 'welfare', 'entitlement': 'welfare', 'support': 'welfare', 'workhouse': 'welfare', 'prosperous': 'welfare', 'pension': 'welfare', 'unemployment insurance': 'welfare', 'solidarity': 'welfare', 'wealth': 'welfare', 'affluence': 'welfare', 'luxury': 'welfare', 'well': 'welfare', 'betterment': 'welfare', 'otto von bismarck': 'welfare', 'happiness': 'welfare', 'social security': 'welfare', 'fortune': 'welfare', 'social insurance': 'welfare', 'mental health': 'welfare', 'eudaemonia': 'welfare', 'eudaimonia': 'welfare', 'japan': 'welfare', 'trajan': 'welfare', 'means test': 'welfare', 'municipalities': 'welfare', 'medieval': 'welfare', 'dole': 'welfare', 'advantage': 'welfare', 'reward': 'welfare', 'parish': 'welfare', 'conditional cash transfer': 'welfare', 'congiaria': 'welfare', 'pogy': 'welfare', 'pogey': 'welfare', 'successfulness': 'welfare', 'reform': 'welfare', 'liberal': 'welfare', 'public assistance': 'welfare', 'zakat': 'welfare', 'umar': 'welfare', 'policies': 'welfare', 'funding': 'welfare', 'beneficiaries': 'welfare', 'welfarist': 'welfare', 'labor': 'welfare', 'orphan': 'welfare', 'taxpayers': 'welfare', 'taxpayer': 'welfare', 'widow': 'welfare', 'priority': 'welfare', 'taxes': 'welfare', 'raising': 'welfare', 'advocates': 'welfare', 'public': 'welfare', 'priorities': 'welfare', 'disaster': 'welfare', 'employment': 'welfare', 'employers': 'welfare', 'provision': 'welfare', 'initiatives': 'welfare', 'famine': 'welfare', 'social support': 'welfare', 'caring': 'welfare', 'adoption': 'welfare', 'subsidy': 'welfare', 'safeguarding': 'welfare', 'raise': 'welfare', 'institutions': 'welfare', 'homeless': 'welfare', 'health insurance': 'welfare', 'federal': 'welfare', 'programs': 'welfare', 'needs': 'welfare', 'worker': 'welfare', 'husbandry': 'welfare', 'safety': 'welfare', 'housing': 'welfare', 'prevention': 'welfare', 'initiative': 'welfare', 'schools': 'welfare', 'funded': 'welfare', 'administration': 'welfare', 'societal': 'welfare', 'burden': 'welfare', 'voucher': 'welfare', 'employer': 'welfare', 'accountability': 'welfare', 'proposing': 'welfare', 'reforming': 'welfare', 'plan': 'welfare', 'child': 'welfare', 'universal healthcare': 'welfare', 'governments': 'welfare', 'grants': 'welfare', 'funds': 'welfare', 'promised': 'welfare', 'fund': 'welfare', 'encourage': 'welfare', 'organizations': 'welfare', 'laws': 'welfare', 'advocate': 'welfare', 'affairs': 'welfare', 'recipients': 'welfare', 'charitable': 'welfare', 'measures': 'welfare', 'budget': 'welfare', 'donations': 'welfare', 'enacted': 'welfare', 'educational': 'welfare', 'savings': 'welfare', 'teachers': 'welfare', 'alleviation': 'welfare', 'individuals': 'welfare', 'living': 'welfare', 'money': 'welfare', 'payments': 'welfare', 'families': 'welfare', 'protecting': 'welfare', 'labour': 'welfare', 'enact': 'welfare', 'roman empire': 'welfare', 'expenditures': 'welfare', 'charities': 'welfare', 'abolish': 'welfare', 'protections': 'welfare', 'provident': 'welfare', 'recreation': 'welfare', 'services': 'welfare', 'fringe': 'welfare', 'protect': 'welfare', 'sociale': 'welfare', 'life': 'welfare', 'veteran': 'welfare', 'protective': 'welfare'}\n",
            "{'arms', 'go-slow', 'NP', 'march', 'scream (or yell) blue (or North American bloody) murder', 'picket', 'aw', 'moan', 'rant', 'outcry', 'cry from the heart', 'make (or kick up) a row', 'civil disobedience', 'wail', 'sit-down', 'kick against', 'hunger strike', 'raise the devil', 'whimper', 'upheaval', 'pie', 'law sakes', 'vociferous', 'demonstrate', 'rumpus', 'strike', 'deprecate', 'exclamation', 'acquiescence', 'inveigh', 'protested', 'walk out', 'furore', 'cri de cœur', 'demonstrator', 'obnoxious', 'sit in', 'job action', 'moon', 'threap', 'supraprotest', 'kick', 'objectionable', 'caterwaul', 'industrial action', '-in', 'plaint', 'turmoil', 're-present', 'caveat', 'fuss', 'unmurmuring', 'clamor', 'squawk', 'counterprotest', 'fulmination', 'expostulate', 'reggae', 'objection', 'except', 'abhor', 'exclaim', 'agitation', 'roko', 'whine', 'stricken', 'walkout', 'bleat', 'revolt', 'testify', 'testimony', 'masculine protest', 'effigy', 'longhair', 'Velvet Revolution', 'pocket', 'demonstration', 'acquiescent', 'murmur', 'Lie', 'remonstrate', 'hey', 'man (or go to) the barricades', 'work-to-rule', 'marcher', 'really', 'NPNA', 'hartal', 'protesting', 'armband', 'Cain', 'sit-in', 'hue and cry', 'noise', 'give me a break', 'folk-rock', 'teach-in', 'squeal', 'sit–in', 'bluster', 'representation', 'firestorm', 'sit down', 'clamour', 'fulminate', 'vouch', 'toy-toy', 'Boston Tea Party', 'object', 'hullabaloo', 'striking', 'dissidence', 'acquiesce', 'represent', 'in', 'remonstrant', 'address', 'remonstrance', 'Hood', 'cavil', 'slowdown', 'protestant', 'rising', 'struck', 'obtest', 'gherao', 'excitement', 'boycott', 'grumbling', 'cry', 'deprecatory', 'stoppage', 'protestation', 'riot', 'hunger march', 'rally', 'vigil', 'agitator', 'open letter', 'demo', 'hikoi', 'rent strike', 'trash'}\n",
            "[0 0 0 0 0 0 0 0]\n"
          ],
          "name": "stdout"
        }
      ]
    },
    {
      "cell_type": "code",
      "metadata": {
        "id": "CXBQch3V5Htg"
      },
      "source": [
        ""
      ],
      "execution_count": null,
      "outputs": []
    },
    {
      "cell_type": "markdown",
      "metadata": {
        "id": "bMliXTTtwW-q"
      },
      "source": [
        "READ csv's and download their contents: Getting Keywords and eventually writing these out to a file somewhere. Google cloud storage be damned!\n"
      ]
    },
    {
      "cell_type": "code",
      "metadata": {
        "id": "_XXEODp3sldf",
        "colab": {
          "base_uri": "https://localhost:8080/",
          "height": 34
        },
        "outputId": "03130b75-4a3a-4262-e523-256355e375ca"
      },
      "source": [
        "ARTICLES = WORKING_DIR + \"/ARTICLES\"\n",
        "import numpy as np\n",
        "from newspaper import Article\n",
        "import nltk\n",
        "nltk.download('popular', quiet=True)\n",
        "\n",
        "\n",
        "\n",
        "if not os.path.exists(ARTICLES):\n",
        "  os.mkdir(ARTICLES)\n",
        "import wget\n",
        "\n",
        "def get_download_filename(name,country,importance):\n",
        "  imp = str(importance)[0:4]\n",
        "  return ARTICLES + \"/\" + country + \"_\" + imp +\"_\" + name +\".html\"\n",
        "def extract_url(line):\n",
        "  return line\n",
        "def download_article(line):\n",
        "  return line[0][1]\n",
        "def download_url(line):\n",
        "\n",
        "  country = line[0][0][0]\n",
        "  importance = line[0][0][2]\n",
        "  url = line[0][1]\n",
        "  id_ = str(line[1])\n",
        "  filename = get_download_filename(id_,country,importance)\n",
        "\n",
        "  try:\n",
        "    if not os.path.exists(filename):\n",
        "      wget.download(url,filename)\n",
        "    return(filename)\n",
        "  except:\n",
        "    return \"ERROR\"\n",
        "\n",
        "\n",
        "def scrape_keywords(row):\n",
        "  try:\n",
        "    filename =  (row[1])\n",
        "    filenameurl = \"file://\"+filename\n",
        "    a = open(filename)\n",
        "    art = Article(filenameurl)\n",
        "    with open(filename, 'r') as f:\n",
        "      s = f.read()\n",
        "      art.set_html(s)\n",
        "    art.parse()\n",
        "    art.nlp()\n",
        "    return [(k) for k in art.keywords]\n",
        "  except:\n",
        "    return ['']\n",
        "\n",
        "\n",
        "dd = file_info.zipWithUniqueId()\n",
        "\n",
        "#-_-_-_-_-_-_-_-_-_-_-_-_-_-_-_-_-_-_-_-_-_-_-_-_-_#\n",
        "'''RESTRICT SIZE SO THAT GOOGLE COLLAB IS USABLE '''\n",
        "#-_-_-_-_-_-_-_-_-_-_-_-_-_-_-_-_-_-_-_-_-_-_-_-_-_#\n",
        "# test = sc.parallelize(dd.take(25))\n",
        "# dbg(test)\n",
        "\n",
        "# test = test.map(lambda x: (((x[0][0],x[0][1]),download_url(x))))\n",
        "\n",
        "# dbg(test)\n",
        "# test = test.map(lambda x: ((x[0][0],scrape_keywords(x))))\n",
        "# test3 = test.map(lambda x: (x[0][0], make_relevance_vector(x)))\n",
        "\n",
        "# test3 = test2.reduceByKey(lambda a,b: np.add(a, b))\n",
        "\n",
        "\n",
        "\n",
        "\n",
        "\n",
        "\n",
        "\n",
        "print(\"DONE\")\n",
        "#-_-_-_-_-_-_-_-_-_-_-_-_-_-_-_-_-_-_-_-_-_-_-_-_-_#\n",
        "'''RESTRICT SIZE SO THAT GOOGLE COLLAB IS USABLE '''\n",
        "#-_-_-_-_-_-_-_-_-_-_-_-_-_-_-_-_-_-_-_-_-_-_-_-_-_#\n",
        "\n",
        "\n",
        "#These are in an if False because they are heavy operations; precaution against accidental execution\n",
        "\n",
        "if False:\n",
        "  dd.map(lambda x: ((x[0][0],download_url(x))))\n",
        "  dd = dd.map(lambda x: (((x[0][0],x[0][1]),download_url(x))))\n",
        "  dd = dd.collect()\n",
        "\n",
        "\n"
      ],
      "execution_count": null,
      "outputs": [
        {
          "output_type": "stream",
          "text": [
            "DONE\n"
          ],
          "name": "stdout"
        }
      ]
    },
    {
      "cell_type": "code",
      "metadata": {
        "id": "2mbxyYrp9XQo",
        "colab": {
          "base_uri": "https://localhost:8080/",
          "height": 34
        },
        "outputId": "02a2a2b0-9640-4ce2-caa5-a551496d915b"
      },
      "source": [
        "%cd ..\n"
      ],
      "execution_count": null,
      "outputs": [
        {
          "output_type": "stream",
          "text": [
            "/content/drive/My Drive/Data301Assignment2020\n"
          ],
          "name": "stdout"
        }
      ]
    },
    {
      "cell_type": "code",
      "metadata": {
        "id": "YFVAjh998CrC",
        "colab": {
          "base_uri": "https://localhost:8080/",
          "height": 156
        },
        "outputId": "cfbf5eba-2d97-4e33-c27d-975df166624d"
      },
      "source": [
        "import os\n",
        "!ls\n",
        "def extract_country(string):\n",
        "  try:\n",
        "    a = string.split(\"_\")\n",
        "    return ((a[0],a[1]),string)\n",
        "  except:\n",
        "    return string\n",
        "\n",
        "  \n",
        "def scrape_keywords2(url):\n",
        "  filename =  ARTICLES + \"/\" + url\n",
        "  filenameurl = \"file://\"+filename\n",
        " \n",
        "  try:\n",
        "    a = open(filename)\n",
        "    art = Article(filenameurl)\n",
        "    with open(filename, 'r') as f:\n",
        "      s = f.read()\n",
        "      art.set_html(s)\n",
        "      art.parse()\n",
        "      art.nlp()\n",
        "      return [(k) for k in art.keywords]\n",
        "  except:\n",
        "      return []\n",
        "\n",
        "\n",
        "\n",
        "\n",
        "\n",
        "%cd ARTICLES\n",
        "files = sc.parallelize([f for f in os.listdir('.') if os.path.isfile(f)])\n",
        "files = files.map(extract_country)\n",
        "\n",
        "dbg(files)\n",
        "files = files.map(lambda x : (x[0] , scrape_keywords2(x[1])))\n",
        "\n",
        "\n",
        "dbg(files)\n",
        "\n",
        "\n"
      ],
      "execution_count": null,
      "outputs": [
        {
          "output_type": "stream",
          "text": [
            "20200401.csv  20200405.csv  20200409.csv  20200413.csv\t   KEYWORDS\n",
            "20200402.csv  20200406.csv  20200410.csv  20200414.csv\n",
            "20200403.csv  20200407.csv  20200411.csv  all_vectors.txt\n",
            "20200404.csv  20200408.csv  20200412.csv  ARTICLES\n",
            "/content/drive/My Drive/Data301Assignment2020/ARTICLES\n",
            "[(('CAN', '-1.3'), 'CAN_-1.3_8854.html'), (('CAN', '-0.9'), 'CAN_-0.9_8856.html'), (('CAN', '-4.3'), 'CAN_-4.3_8858.html'), (('CAN', '0.24'), 'CAN_0.24_8860.html'), (('CAN', '0.24'), 'CAN_0.24_8862.html'), (('CAN', '0.24'), 'CAN_0.24_8864.html'), (('CAN', '-2.9'), 'CAN_-2.9_8866.html'), (('CAN', '0.24'), 'CAN_0.24_8868.html'), (('CAN', '0.24'), 'CAN_0.24_8870.html'), (('CAN', '0.24'), 'CAN_0.24_8872.html'), (('CAN', '0.24'), 'CAN_0.24_8874.html'), (('CAN', '0.24'), 'CAN_0.24_8876.html'), (('CAN', '0.24'), 'CAN_0.24_8878.html'), (('CAN', '0.24'), 'CAN_0.24_8880.html'), (('CAN', '0.24'), 'CAN_0.24_8882.html'), (('CAN', '0.24'), 'CAN_0.24_8884.html'), (('CAN', '-0.9'), 'CAN_-0.9_8886.html'), (('CAN', '-1.3'), 'CAN_-1.3_8888.html'), (('CAN', '-1.3'), 'CAN_-1.3_8890.html'), (('CAN', '-10.'), 'CAN_-10._8892.html'), (('CAN', '-4.9'), 'CAN_-4.9_8894.html'), (('CAN', '-6.2'), 'CAN_-6.2_8896.html'), (('CAN', '-4.9'), 'CAN_-4.9_8898.html'), (('CAN', '-4.3'), 'CAN_-4.3_8900.html'), (('CAN', '-4.3'), 'CAN_-4.3_8902.html'), (('CHN', '-4.6'), 'CHN_-4.6_8906.html'), (('CHN', '-2.4'), 'CHN_-2.4_8908.html'), (('CHN', '-2.4'), 'CHN_-2.4_8912.html'), (('CHN', '-3.0'), 'CHN_-3.0_8914.html'), (('COL', '0.61'), 'COL_0.61_8916.html'), (('COL', '0.61'), 'COL_0.61_8918.html'), (('CUB', '-3.0'), 'CUB_-3.0_8920.html'), (('DEU', '1.18'), 'DEU_1.18_8926.html'), (('DNK', '-4.9'), 'DNK_-4.9_8932.html'), (('DNK', '-4.9'), 'DNK_-4.9_8934.html'), (('EGY', '3.08'), 'EGY_3.08_8940.html'), (('EGY', '-1.1'), 'EGY_-1.1_8942.html'), (('EGY', '-1.1'), 'EGY_-1.1_8944.html'), (('EGY', '-1.1'), 'EGY_-1.1_8946.html'), (('ESP', '-1.6'), 'ESP_-1.6_8948.html'), (('ESP', '-1.6'), 'ESP_-1.6_8950.html'), (('FJI', '-1.8'), 'FJI_-1.8_8960.html'), (('FJI', '-1.8'), 'FJI_-1.8_8962.html'), (('FJI', '-1.8'), 'FJI_-1.8_8964.html'), (('FRA', '0.11'), 'FRA_0.11_8966.html'), (('FRA', '0.11'), 'FRA_0.11_8968.html'), (('FRA', '0.11'), 'FRA_0.11_8970.html'), (('FRA', '1.92'), 'FRA_1.92_8972.html'), (('FRA', '-5.9'), 'FRA_-5.9_8974.html'), (('FRA', '-5.9'), 'FRA_-5.9_8976.html'), (('FRA', '-3.3'), 'FRA_-3.3_8978.html'), (('FRA', '-2.8'), 'FRA_-2.8_8980.html'), (('FRA', '-2.8'), 'FRA_-2.8_8982.html'), (('FRA', '-2.8'), 'FRA_-2.8_8984.html'), (('FRA', '-2.8'), 'FRA_-2.8_8986.html'), (('FRA', '-2.8'), 'FRA_-2.8_8990.html'), (('FRA', '-1.9'), 'FRA_-1.9_8992.html'), (('FRA', '-2.8'), 'FRA_-2.8_8994.html'), (('FRA', '-2.8'), 'FRA_-2.8_8996.html'), (('FRA', '1.92'), 'FRA_1.92_8998.html'), (('FRA', '1.92'), 'FRA_1.92_9000.html'), (('FRA', '0.11'), 'FRA_0.11_9002.html'), (('FRA', '1.92'), 'FRA_1.92_9004.html'), (('FRA', '-5.9'), 'FRA_-5.9_9006.html'), (('FRA', '0.11'), 'FRA_0.11_9008.html'), (('FRA', '0.11'), 'FRA_0.11_9010.html'), (('FRA', '0.11'), 'FRA_0.11_9012.html'), (('FRA', '0.11'), 'FRA_0.11_9014.html'), (('FRA', '-2.8'), 'FRA_-2.8_9016.html'), (('FRA', '-1.9'), 'FRA_-1.9_9020.html'), (('FRA', '-2.8'), 'FRA_-2.8_9022.html'), (('FRA', '-2.8'), 'FRA_-2.8_9024.html'), (('GBR', '-0.9'), 'GBR_-0.9_9028.html'), (('GBR', '-2.3'), 'GBR_-2.3_9030.html'), (('GBR', '-0.6'), 'GBR_-0.6_9032.html'), (('GBR', '-0.9'), 'GBR_-0.9_9034.html'), (('GBR', '2.08'), 'GBR_2.08_9036.html'), (('GBR', '-0.9'), 'GBR_-0.9_9038.html'), (('GBR', '-0.9'), 'GBR_-0.9_9040.html'), (('GBR', '0.54'), 'GBR_0.54_9042.html'), (('GBR', '-3.4'), 'GBR_-3.4_9044.html'), (('GBR', '1.21'), 'GBR_1.21_9050.html'), (('GBR', '2.45'), 'GBR_2.45_9052.html'), (('GHA', '-0.6'), 'GHA_-0.6_9054.html'), (('GRC', '-2.5'), 'GRC_-2.5_9058.html'), (('EUR', '4.44'), 'EUR_4.44_9068.html'), (('EUR', '-4.6'), 'EUR_-4.6_9070.html'), (('EUR', '-0.3'), 'EUR_-0.3_9072.html'), (('EUR', '-0.3'), 'EUR_-0.3_9074.html'), (('EUR', '-8.5'), 'EUR_-8.5_9076.html'), (('EUR', '-8.5'), 'EUR_-8.5_9078.html'), (('IND', '-0.4'), 'IND_-0.4_9084.html'), (('IND', '-0.4'), 'IND_-0.4_9086.html'), (('IRN', '-3.3'), 'IRN_-3.3_9088.html'), (('IRN', '-3.3'), 'IRN_-3.3_9090.html'), (('IRN', '-2.5'), 'IRN_-2.5_9092.html'), (('IRN', '-3.3'), 'IRN_-3.3_9094.html'), (('IRQ', '-2.5'), 'IRQ_-2.5_9096.html'), (('IRQ', '-2.5'), 'IRQ_-2.5_9098.html'), (('IRQ', '-2.5'), 'IRQ_-2.5_9100.html')]\n",
            "[(('CAN', '-1.3'), ['passengers', 'statement', 'pandemic', 'cancelled', 'air', 'passenger', 'refunds', 'coronavirus', 'airlines', 'agency', 'credit', 'fight', 'online', 'cta', 'canadian']), (('CAN', '-0.9'), ['covid19', 'remote', 'plans', 'continues', 'coronavirus', 'facilities', 'rural', 'segregate', 'communities', 'sha', 'noncovid', 'patients', 'health', 'hospitals', 'saskatchewan']), (('CAN', '-4.3'), ['return', 'sea', 'covid19', 'shawinigan', 'coronavirus', 'vessels', 'returning', 'bay', 'forces', 'glace', 'halifax', 'canadian', 'hmcs', 'navy', 'health']), (('CAN', '0.24'), ['doordash', 'program', 'company', 'million', 'cut', 'local', '50', 'commission', 'restaurants', 'pay', 'reduced', 'restaurant', 'end', 'commissions', 'partners']), (('CAN', '0.24'), ['doordash', 'program', 'company', 'million', 'cut', 'local', '50', 'commission', 'restaurants', 'pay', 'reduced', 'restaurant', 'end', 'commissions', 'partners']), (('CAN', '0.24'), ['doordash', 'program', 'company', 'million', 'cut', 'local', '50', 'commission', 'restaurants', 'pay', 'reduced', 'restaurant', 'end', 'commissions', 'partners']), (('CAN', '-2.9'), ['alleges', 'contract', 'union', 'issue', 'continues', 'dispute', 'city', 'meeting', 'resolution', 'residency', 'rule', 'breach', 'ontario', 'special', 'council']), (('CAN', '0.24'), ['doordash', 'program', 'company', 'million', 'cut', 'local', '50', 'commission', 'restaurants', 'pay', 'reduced', 'restaurant', 'end', 'commissions', 'partners']), (('CAN', '0.24'), ['doordash', 'program', 'company', 'million', 'cut', 'local', '50', 'commission', 'restaurants', 'pay', 'reduced', 'restaurant', 'end', 'commissions', 'partners']), (('CAN', '0.24'), ['doordash', 'program', 'company', 'million', 'cut', 'local', '50', 'commission', 'restaurants', 'pay', 'reduced', 'restaurant', 'end', 'commissions', 'partners']), (('CAN', '0.24'), ['doordash', 'program', 'company', 'million', 'cut', 'local', '50', 'commission', 'restaurants', 'pay', 'reduced', 'restaurant', 'end', 'commissions', 'partners']), (('CAN', '0.24'), ['doordash', 'program', 'company', 'million', 'cut', 'local', '50', 'commission', 'restaurants', 'pay', 'reduced', 'restaurant', 'end', 'commissions', 'partners']), (('CAN', '0.24'), ['doordash', 'program', 'company', 'million', 'cut', 'local', '50', 'commission', 'restaurants', 'pay', 'reduced', 'restaurant', 'end', 'commissions', 'partners']), (('CAN', '0.24'), ['doordash', 'program', 'company', 'million', 'cut', 'local', '50', 'commission', 'restaurants', 'pay', 'reduced', 'restaurant', 'end', 'commissions', 'partners']), (('CAN', '0.24'), ['doordash', 'program', 'company', 'million', 'cut', 'local', '50', 'commission', 'restaurants', 'pay', 'reduced', 'restaurant', 'end', 'commissions', 'partners']), (('CAN', '0.24'), ['doordash', 'program', 'company', 'million', 'cut', 'local', '50', 'commission', 'restaurants', 'pay', 'reduced', 'restaurant', 'end', 'commissions', 'partners']), (('CAN', '-0.9'), ['covid19', 'remote', 'plans', 'continues', 'coronavirus', 'facilities', 'rural', 'segregate', 'communities', 'sha', 'noncovid', 'patients', 'health', 'hospitals', 'saskatchewan']), (('CAN', '-1.3'), ['passengers', 'statement', 'pandemic', 'cancelled', 'air', 'passenger', 'refunds', 'coronavirus', 'airlines', 'agency', 'credit', 'fight', 'online', 'cta', 'canadian']), (('CAN', '-1.3'), ['passengers', 'statement', 'pandemic', 'cancelled', 'air', 'passenger', 'refunds', 'coronavirus', 'airlines', 'agency', 'credit', 'fight', 'online', 'cta', 'canadian']), (('CAN', '-10.'), ['victim', 'identify', 'clair', 'west', 'woundsthe', 'identified', 'witnesses', 'shooting', 'area', 'oakwood', 'man', 'st']), (('CAN', '-4.9'), ['street', 'emergency', 'free', 'closing', 'closes', 'pedestrians', 'city', 'cyclists', 'leiper', 'traffic', 'routes', 'space', 'ottawa', 'ward', 'westboro']), (('CAN', '-6.2'), ['advise', '6the', 'loyal', 'regulators', 'measures', 'magistrate', 'submit', 'evidence', 'shortselling', 'markets', 'arbitrary', 'chief', 'subject', 'truly', 'driving', 'say']), (('CAN', '-4.9'), ['street', 'emergency', 'free', 'closing', 'closes', 'pedestrians', 'city', 'cyclists', 'leiper', 'traffic', 'routes', 'space', 'ottawa', 'ward', 'westboro']), (('CAN', '-4.3'), ['return', 'sea', 'covid19', 'shawinigan', 'coronavirus', 'vessels', 'returning', 'bay', 'forces', 'glace', 'halifax', 'canadian', 'hmcs', 'navy', 'health']), (('CAN', '-4.3'), ['return', 'sea', 'covid19', 'shawinigan', 'coronavirus', 'vessels', 'returning', 'bay', 'forces', 'glace', 'halifax', 'canadian', 'hmcs', 'navy', 'health']), (('CHN', '-4.6'), ['toll', 'glance', 'coronavirus', 'care', 'moved', 'lockdown', 'warned', 'intensive', 'president', 'minister', 'death']), (('CHN', '-2.4'), ['statement', 'company', 'according', 'million', 'xilinxs', 'quarter', 'executive', 'xilinx', 'chipmaker', 'slip', 'cfo', 'amid', 'names', 'sales', 'hill', 'rare']), (('CHN', '-2.4'), ['statement', 'company', 'according', 'million', 'xilinxs', 'quarter', 'executive', 'xilinx', 'chipmaker', 'slip', 'cfo', 'amid', 'names', 'sales', 'hill', 'rare']), (('CHN', '-3.0'), ['wuhan', 'woman', 'breakfast', 'types', 'lockdownfree', 'orders', 'months', 'zao', 'order', 'ordered', 'restaurant', 'food', 'day', 'lifted', '76']), (('COL', '0.61'), ['france', 'tour', 'coronavirus', 'rider', 'crisis', 'bernal', 'auctioning', 'bike', 'charity', 'jerseys', 'amid', 'auctions', 'champion']), (('COL', '0.61'), ['france', 'tour', 'coronavirus', 'rider', 'crisis', 'bernal', 'auctioning', 'bike', 'charity', 'jerseys', 'amid', 'auctions', 'champion']), (('CUB', '-3.0'), ['forward', 'containment', 'covid19', 'virus', 'coronavirus', 'spread', 'world', 'present', 'china', 'way', 'help', 'sri', 'impact', 'lanka']), (('DEU', '1.18'), ['chevrolet', '2020', 'chevy', '60', 'z51', 'mph', 'performance', 'seconds', 'hit', 'corvette', '27', 'video', 'watch', 'tires']), (('DNK', '-4.9'), ['cases', 'deaths', 'ventilator', 'treated', 'needed', 'covid19', 'program', 'mile', 'coronavirus', 'nuuk', 'outside', 'population', 'lives', 'greenland', 'known', 'health']), (('DNK', '-4.9'), ['cases', 'deaths', 'ventilator', 'treated', 'needed', 'covid19', 'program', 'mile', 'coronavirus', 'nuuk', 'outside', 'population', 'lives', 'greenland', 'known', 'health']), (('EGY', '3.08'), ['tahiti', 'asher', 'technology', 'million', 'birthday', 'coding', 'world', 'ultimately', 'skydiver', 'young', '20th', 'travel', 'swimming', 'hobbyist', 'lucas']), (('EGY', '-1.1'), ['mass', 'pope', 'square', 'francis', 'social', 'coronavirus', 'vatican', 'easter', 'week', 'vaticans', 'st', 'outbreak', 'virtual', 'italy', 'battles', 'peters', 'rituals']), (('EGY', '-1.1'), ['mass', 'pope', 'square', 'francis', 'social', 'coronavirus', 'vatican', 'easter', 'week', 'vaticans', 'st', 'outbreak', 'virtual', 'italy', 'battles', 'peters', 'rituals']), (('EGY', '-1.1'), ['mass', 'pope', 'square', 'francis', 'social', 'coronavirus', 'vatican', 'easter', 'week', 'vaticans', 'st', 'outbreak', 'virtual', 'italy', 'battles', 'peters', 'rituals']), (('ESP', '-1.6'), ['sina', 'covid19', 'university', 'protecting', 'ibn', 'spread', 'modern', 'world', 'legacy', 'medical', 'centuries', 'sinas', 'quarantine']), (('ESP', '-1.6'), ['sina', 'covid19', 'university', 'protecting', 'ibn', 'spread', 'modern', 'world', 'legacy', 'medical', 'centuries', 'sinas', 'quarantine']), (('FJI', '-1.8'), ['los', 'fiji', 'covid19', 'recovery', 'international', 'flights', 'airways', 'la', 'wish', 'nadi', 'picture', 'way', 'evacuation']), (('FJI', '-1.8'), ['los', 'fiji', 'covid19', 'recovery', 'international', 'flights', 'airways', 'la', 'wish', 'nadi', 'picture', 'way', 'evacuation']), (('FJI', '-1.8'), ['los', 'fiji', 'covid19', 'recovery', 'international', 'flights', 'airways', 'la', 'wish', 'nadi', 'picture', 'way', 'evacuation']), (('FRA', '0.11'), ['pioneering', 'lyon', '95', 'lesbian', 'marriage', 'activist', 'martin', 'gay', 'phyllis', 'dies', 'rights', 'couple', 'san', 'francisco', 'told']), (('FRA', '0.11'), ['pioneering', 'lyon', '95', 'lesbian', 'marriage', 'activist', 'martin', 'gay', 'phyllis', 'dies', 'rights', 'couple', 'san', 'francisco', 'told']), (('FRA', '0.11'), ['pioneering', 'lyon', '95', 'lesbian', 'marriage', 'activist', 'martin', 'gay', 'phyllis', 'dies', 'rights', 'couple', 'san', 'francisco', 'told']), (('FRA', '1.92'), ['district', 'center', 'covid19', 'hospital', 'pontotoc', 'testing', 'oklahoma', 'dont', 'prepares', 'possible', 'patients', 'farrell', 'county', 'surge', 'sees', 'mercy', 'health']), (('FRA', '-5.9'), ['requests', 'secured', 'pritzker', 'prisoners', 'pandemic', 'robberies', 'prison', 'soble', 'quietly', 'including', 'powells', 'sentenced', 'release', 'released', 'seeking', 'serving', 'jb', 'life', 'open', 'plans']), (('FRA', '-5.9'), ['requests', 'secured', 'pritzker', 'prisoners', 'pandemic', 'robberies', 'prison', 'soble', 'quietly', 'including', 'powells', 'sentenced', 'release', 'released', 'seeking', 'serving', 'jb', 'life', 'open', 'plans']), (('FRA', '-3.3'), ['hes', 'donald', 'come', 'reopen', 'gonna', 'knows', 'attacks', 'trump', 'ruling', 'mr', 'president', 'economy', 'matter', 'elected', 'class', 'country', 'fauci']), (('FRA', '-2.8'), ['masks', 'blocks', 'mayors', 'residents', 'mayor', 'public', 'outside', 'ordered', 'french', 'wear', 'shortages', 'order', 'spinosi', 'mask', 'court', 'rights']), (('FRA', '-2.8'), ['masks', 'blocks', 'mayors', 'residents', 'mayor', 'public', 'outside', 'ordered', 'french', 'wear', 'shortages', 'order', 'spinosi', 'mask', 'court', 'rights']), (('FRA', '-2.8'), ['masks', 'blocks', 'mayors', 'residents', 'mayor', 'public', 'outside', 'ordered', 'french', 'wear', 'shortages', 'order', 'spinosi', 'mask', 'court', 'rights']), (('FRA', '-2.8'), ['masks', 'blocks', 'mayors', 'residents', 'mayor', 'public', 'outside', 'ordered', 'french', 'wear', 'shortages', 'order', 'spinosi', 'mask', 'court', 'rights']), (('FRA', '-2.8'), ['masks', 'blocks', 'mayors', 'residents', 'mayor', 'public', 'outside', 'ordered', 'french', 'wear', 'shortages', 'order', 'spinosi', 'mask', 'court', 'rights']), (('FRA', '-1.9'), ['stimulus', 'debt', 'virus', 'fallout', 'member', 'european', 'billion', 'ministers', 'ease', 'fund', 'euro', 'eu', 'agrees', '500b', 'plan', 'national', 'states', 'eus']), (('FRA', '-2.8'), ['masks', 'blocks', 'mayors', 'residents', 'mayor', 'public', 'outside', 'ordered', 'french', 'wear', 'shortages', 'order', 'spinosi', 'mask', 'court', 'rights']), (('FRA', '-2.8'), ['masks', 'blocks', 'mayors', 'residents', 'mayor', 'public', 'outside', 'ordered', 'french', 'wear', 'shortages', 'order', 'spinosi', 'mask', 'court', 'rights']), (('FRA', '1.92'), ['district', 'center', 'covid19', 'hospital', 'pontotoc', 'testing', 'oklahoma', 'dont', 'prepares', 'possible', 'patients', 'farrell', 'county', 'surge', 'sees', 'mercy', 'health']), (('FRA', '1.92'), ['district', 'center', 'covid19', 'hospital', 'pontotoc', 'testing', 'oklahoma', 'dont', 'prepares', 'possible', 'patients', 'farrell', 'county', 'surge', 'sees', 'mercy', 'health']), (('FRA', '0.11'), ['pioneering', 'lyon', '95', 'lesbian', 'marriage', 'activist', 'martin', 'gay', 'phyllis', 'dies', 'rights', 'couple', 'san', 'francisco', 'told']), (('FRA', '1.92'), ['district', 'center', 'covid19', 'hospital', 'pontotoc', 'testing', 'oklahoma', 'dont', 'prepares', 'possible', 'patients', 'farrell', 'county', 'surge', 'sees', 'mercy', 'health']), (('FRA', '-5.9'), ['requests', 'secured', 'pritzker', 'prisoners', 'pandemic', 'robberies', 'prison', 'soble', 'quietly', 'including', 'powells', 'sentenced', 'release', 'released', 'seeking', 'serving', 'jb', 'life', 'open', 'plans']), (('FRA', '0.11'), ['pioneering', 'lyon', '95', 'lesbian', 'marriage', 'activist', 'martin', 'gay', 'phyllis', 'dies', 'rights', 'couple', 'san', 'francisco', 'told']), (('FRA', '0.11'), ['pioneering', 'lyon', '95', 'lesbian', 'marriage', 'activist', 'martin', 'gay', 'phyllis', 'dies', 'rights', 'couple', 'san', 'francisco', 'told']), (('FRA', '0.11'), ['pioneering', 'lyon', '95', 'lesbian', 'marriage', 'activist', 'martin', 'gay', 'phyllis', 'dies', 'rights', 'couple', 'san', 'francisco', 'told']), (('FRA', '0.11'), ['pioneering', 'lyon', '95', 'lesbian', 'marriage', 'activist', 'martin', 'gay', 'phyllis', 'dies', 'rights', 'couple', 'san', 'francisco', 'told']), (('FRA', '-2.8'), ['masks', 'blocks', 'mayors', 'residents', 'mayor', 'public', 'outside', 'ordered', 'french', 'wear', 'shortages', 'order', 'spinosi', 'mask', 'court', 'rights']), (('FRA', '-1.9'), ['stimulus', 'debt', 'virus', 'fallout', 'member', 'european', 'billion', 'ministers', 'ease', 'fund', 'euro', 'eu', 'agrees', '500b', 'plan', 'national', 'states', 'eus']), (('FRA', '-2.8'), ['masks', 'blocks', 'mayors', 'residents', 'mayor', 'public', 'outside', 'ordered', 'french', 'wear', 'shortages', 'order', 'spinosi', 'mask', 'court', 'rights']), (('FRA', '-2.8'), ['masks', 'blocks', 'mayors', 'residents', 'mayor', 'public', 'outside', 'ordered', 'french', 'wear', 'shortages', 'order', 'spinosi', 'mask', 'court', 'rights']), (('GBR', '-0.9'), ['unsung', 'customers', 'service', 'working', 'drink', 'stores', 'retailers', 'heroes', 'wholesalers', 'industry', 'business', 'weve', 'convenience', 'retail', 'store', 'food', 'wholesale', 'small']), (('GBR', '-2.3'), ['article', 'kxl', 'syndicated']), (('GBR', '-0.6'), ['treated', 'chickens', 'roman', 'hares', 'britain', 'brown', 'arrived', 'eaten', 'period', 'rabbits', 'originally', 'food', 'century', 'introduced', 'gods']), (('GBR', '-0.9'), ['unsung', 'customers', 'service', 'working', 'drink', 'stores', 'retailers', 'heroes', 'wholesalers', 'industry', 'business', 'weve', 'convenience', 'retail', 'store', 'food', 'wholesale', 'small']), (('GBR', '2.08'), ['ed', 'night', 'solo', 'wrote', 'cloak', 'radioheads', 'shares', 'debut', 'album', 'features', 'track', 'willesden', 'earth', 'studio', 'song', 'obrien']), (('GBR', '-0.9'), ['unsung', 'customers', 'service', 'working', 'drink', 'stores', 'retailers', 'heroes', 'wholesalers', 'industry', 'business', 'weve', 'convenience', 'retail', 'store', 'food', 'wholesale', 'small']), (('GBR', '-0.9'), ['unsung', 'customers', 'service', 'working', 'drink', 'stores', 'retailers', 'heroes', 'wholesalers', 'industry', 'business', 'weve', 'convenience', 'retail', 'store', 'food', 'wholesale', 'small']), (('GBR', '0.54'), ['risks', 'acquires', 'congress', 'mineral', 'bralorne', 'gold', 'information', 'company', 'property', 'forwardlooking', 'talisker', 'extending', 'exploration', 'project']), (('GBR', '-3.4'), ['family', 'son', 'loss', 'brother', 'coronavirus', 'pearsoncubus', 'lake', 'northwestern', 'started', 'mourns', 'going', 'died', 'pearson', 'father', 'marine', 'abbott', 'told']), (('GBR', '1.21'), ['step', 'produce', 'production', 'supply', 'design', 'covid19', 'firms', 'effort', 'uk', 'ventilators', 'babcock', 'nhs', 'scots', 'help', 'raytheon', 'scotland']), (('GBR', '2.45'), ['set', 'strathclyde', 'university', 'protocol', 'emission', 'united', 'low', 'succeeding', 'study', 'emissions', 'despite', 'prices', 'scheme', 'reduce', 'carbon']), (('GHA', '-0.6'), ['mitigate', 'covid19', 'lotto', 'statement', '890', 'public', 'short', 'code', 'staking', 'sale', 'activates', 'shortfall', 'nla', 'digital', 'sales', 'authority']), (('GRC', '-2.5'), ['cases', 'covid19', 'hospital', 'staff', 'settlers', 'strict', 'services', 'clinic', 'prepare', 'patients', 'nqenqa', 'makana', 'health']), (('EUR', '4.44'), ['tourism', 'eur', 'provides', 'union', 'covid19', 'm', 'european', 'million', 'grant', 'world', '22', 'eu', 'sri', 'lanka', 'health']), (('EUR', '-4.6'), ['toll', 'glance', 'coronavirus', 'care', 'moved', 'lockdown', 'warned', 'intensive', 'president', 'minister', 'death']), (('EUR', '-0.3'), ['work', 'eur', 'covid19', 'europe', 'million', 'times', 'economic', 'crisis', 'mutual', 'lankas', 'support', 'help', 'sri', 'lanka', 'health']), (('EUR', '-0.3'), ['work', 'eur', 'covid19', 'europe', 'million', 'times', 'economic', 'crisis', 'mutual', 'lankas', 'support', 'help', 'sri', 'lanka', 'health']), (('EUR', '-8.5'), ['regime', 'crimes', 'regimes', 'union', 'syrian', 'officials', 'weapons', 'chemical', 'confirmed', 'war', 'mulls', 'policy', 'eu', 'sanctions', 'usage', 'syria', 'report']), (('EUR', '-8.5'), ['regime', 'crimes', 'regimes', 'union', 'syrian', 'officials', 'weapons', 'chemical', 'confirmed', 'war', 'mulls', 'policy', 'eu', 'sanctions', 'usage', 'syria', 'report']), (('IND', '-0.4'), ['save', 'separatist', 'sfj', 'pushes', 'punjab', 'sikhs', 'singh', 'pannun', 'received', 'justice', 'recorded', 'voice', 'messages', 'number', 'garb', 'lives', 'battles', 'covid', 'aid']), (('IND', '-0.4'), ['save', 'separatist', 'sfj', 'pushes', 'punjab', 'sikhs', 'singh', 'pannun', 'received', 'justice', 'recorded', 'voice', 'messages', 'number', 'garb', 'lives', 'battles', 'covid', 'aid']), (('IRN', '-3.3'), ['hes', 'donald', 'come', 'reopen', 'gonna', 'knows', 'attacks', 'trump', 'ruling', 'mr', 'president', 'economy', 'matter', 'elected', 'class', 'country', 'fauci']), (('IRN', '-3.3'), ['hes', 'donald', 'come', 'reopen', 'gonna', 'knows', 'attacks', 'trump', 'ruling', 'mr', 'president', 'economy', 'matter', 'elected', 'class', 'country', 'fauci']), (('IRN', '-2.5'), ['iraq', 'pmdesignate', 'iran', 'political', 'iraqs', 'mahdi', 'named', 'close', 'shiite', 'chief', 'kadhemi', 'support', 'iraqi', 'spy', 'told']), (('IRN', '-3.3'), ['hes', 'donald', 'come', 'reopen', 'gonna', 'knows', 'attacks', 'trump', 'ruling', 'mr', 'president', 'economy', 'matter', 'elected', 'class', 'country', 'fauci']), (('IRQ', '-2.5'), ['iraq', 'pmdesignate', 'iran', 'political', 'iraqs', 'mahdi', 'named', 'close', 'shiite', 'chief', 'kadhemi', 'support', 'iraqi', 'spy', 'told']), (('IRQ', '-2.5'), ['iraq', 'pmdesignate', 'iran', 'political', 'iraqs', 'mahdi', 'named', 'close', 'shiite', 'chief', 'kadhemi', 'support', 'iraqi', 'spy', 'told']), (('IRQ', '-2.5'), ['iraq', 'pmdesignate', 'iran', 'political', 'iraqs', 'mahdi', 'named', 'close', 'shiite', 'chief', 'kadhemi', 'support', 'iraqi', 'spy', 'told'])]\n"
          ],
          "name": "stdout"
        }
      ]
    },
    {
      "cell_type": "markdown",
      "metadata": {
        "id": "n_lI2ln5bsUi"
      },
      "source": [
        "Flatten out and write our keywords to a csv file (this keeps it modular. There's a fair bit of overhead but. Whatever!)"
      ]
    },
    {
      "cell_type": "code",
      "metadata": {
        "id": "JLXahgsLXurQ"
      },
      "source": [
        "def flat_list(x):\n",
        "  try:\n",
        "    return [x[0][0],x[0][1]] + x[1]\n",
        "  except:\n",
        "    return []\n",
        "\n",
        "\n",
        "\n",
        "if False: # if false to prevent calling if new runtime\n",
        "  dbg(files)\n",
        "\n",
        "  flattenrdd = files.map(lambda a: (flat_list(a)))\n",
        "  all_rows = flattenrdd.collect()\n",
        "\n",
        "\n",
        "  dbg(flattenrdd)\n",
        "\n",
        "\n",
        "\n",
        "  a = (('CHN', '-3.2'), ['ban', 'components', 'american', 'huawei', 'ceramic', 'trump', 'phones', 'smartphone', 'nearly', 'p40', 'tech', 'using', 'flagship'])\n",
        "\n",
        "\n",
        "  import csv\n",
        "  with open(\"out.csv\", \"w\", newline=\"\") as f:\n",
        "      writer = csv.writer(f)\n",
        "      writer.writerows(all_rows)"
      ],
      "execution_count": null,
      "outputs": []
    },
    {
      "cell_type": "code",
      "metadata": {
        "id": "RpiT1EGGB94l",
        "colab": {
          "base_uri": "https://localhost:8080/",
          "height": 51
        },
        "outputId": "e62ea4ec-51c9-405b-9798-b347664acb7e"
      },
      "source": [
        "%cd .. \n",
        "!pwd"
      ],
      "execution_count": null,
      "outputs": [
        {
          "output_type": "stream",
          "text": [
            "/content/drive/My Drive/Data301Assignment2020\n",
            "/content/drive/My Drive/Data301Assignment2020\n"
          ],
          "name": "stdout"
        }
      ]
    },
    {
      "cell_type": "code",
      "metadata": {
        "id": "WvMyowA6mLaj",
        "colab": {
          "base_uri": "https://localhost:8080/",
          "height": 173
        },
        "outputId": "b1ef6023-21fe-4b89-fc44-7532f5382ca5"
      },
      "source": [
        "from pyspark.sql import SQLContext\n",
        "import numpy as np\n",
        "import math\n",
        "sqlContext = SQLContext(sc)\n",
        "!pwd\n",
        "# %cd .. \n",
        "\n",
        "a = sqlContext.read.option(\"header\", \"true\").csv(WORKING_DIR + \"/KEYWORDS\" + \"/out.csv\")\n",
        "print(a)\n",
        "raw_words = a.rdd.map(lambda x: (x[0:2], list(x[2:])))\n",
        "\n",
        "data_urls = raw_words.map(lambda x: (x[0],make_relevance_vector(x[1])))\n",
        "dbg(data_urls)\n",
        "\n",
        "# SPLIT #\n",
        "def safe_to_float(x):\n",
        "  try:\n",
        "    return float(x)\n",
        "  except:\n",
        "    return 0\n",
        "data_tones = data_urls.map(lambda x: (x[0][0],safe_to_float(x[0][1]))).reduceByKey(lambda a,b: a + b)\n",
        "total_countries = data_tones.collect()\n",
        "# Gives total tone (it's not perfect) #\n",
        "\n",
        "\n",
        "data_urls = data_urls.map(lambda x: (x[0][0],x[1]))\n",
        "data_urls = data_urls.reduceByKey(lambda a,b: np.add(a,b))\n",
        "final = data_urls.collect()\n",
        "\n",
        "\n",
        "\n",
        "''' Takes the average mean avg. tone (only 144 possible keys so even doing this on the root\n",
        "will be fine)\n",
        "'''\n",
        "def compute_avg_tone(tone,count):\n",
        "  return tone / count\n",
        "jointones = data_tones.join(data_urls)\n",
        "average_tones = jointones.map(lambda x: (x[0], compute_avg_tone(x[1][0], x[1][1][-1]), x[1][1]))\n",
        "\n",
        "\n",
        "def exchange_value(array, val, which): \n",
        "  '''Rudimentary normalization'''\n",
        "  a = array.tolist()\n",
        "  try:\n",
        "    a[-1] = a[-1]/val\n",
        "  except:\n",
        "    pass\n",
        "  summ = math.sqrt(sum([i**2 for i in array]))\n",
        "  if (summ == 0):\n",
        "    return [(1/(1))*j for j in a ]\n",
        "  return [(1/(summ))*j for j in a ]\n",
        "\n",
        "\n",
        "\n",
        "adjustedarray = jointones.map(lambda x: (x[0],exchange_value(x[1][1],x[1][0],-1)))\n",
        "dbg(adjustedarray)\n",
        "\n",
        "\n",
        "\n",
        "final_vectors = adjustedarray.collect()\n",
        "print(final_vectors)\n",
        "print(len(final_vectors))\n",
        "\n",
        "\n",
        "USA_VEC = []\n",
        "for each in final_vectors:\n",
        "  if each[0] == 'USA':\n",
        "    USA_VEC = np.array(each[1])\n",
        "\n",
        "print(USA_VEC)\n",
        "\n"
      ],
      "execution_count": null,
      "outputs": [
        {
          "output_type": "stream",
          "text": [
            "/content/drive/My Drive/Data301Assignment2020/KEYWORDS\n",
            "DataFrame[CAN: string, 0.24: string, doordash: string, program: string, company: string, million: string, cut: string, local: string, 50: string, commission: string, restaurants: string, pay: string, reduced: string, restaurant: string, end: string, commissions: string, partners: string]\n",
            "[(('CAN', '-1.3'), array([0, 0, 0, 0, 1, 0, 0, 0])), (('CAN', '-4.4'), array([0, 0, 0, 0, 0, 0, 0, 0])), (('CAN', '-1.3'), array([0, 0, 0, 0, 1, 0, 0, 0])), (('CAN', '-2.9'), array([0, 2, 1, 0, 0, 0, 0, 0])), (('CAN', '-10.'), array([0, 0, 0, 2, 0, 0, 0, 0])), (('CAN', '-4.9'), array([0, 0, 1, 2, 0, 0, 0, 0])), (('CAN', '-6.2'), array([0, 0, 0, 1, 1, 0, 0, 0])), (('CAN', '-4.3'), array([0, 0, 0, 0, 0, 0, 0, 0])), (('CAN', '-8.4'), array([0, 0, 0, 4, 0, 0, 0, 0])), (('CAN', '-4.4'), array([0, 0, 0, 0, 0, 0, 0, 0])), (('CAN', '-2.2'), array([0, 0, 0, 1, 0, 0, 0, 0])), (('CAN', '-1.8'), array([0, 1, 1, 0, 0, 0, 0, 0])), (('CAN', '-4.1'), array([0, 0, 0, 0, 0, 0, 0, 0])), (('CAN', '-3.6'), array([0, 0, 0, 0, 0, 0, 0, 0])), (('CAN', '-4.3'), array([0, 0, 0, 0, 0, 0, 0, 0])), (('CAN', '-1.3'), array([0, 0, 0, 0, 1, 0, 0, 0])), (('CAN', '-0.9'), array([0, 0, 0, 0, 0, 0, 0, 0])), (('CAN', '-4.3'), array([0, 0, 0, 0, 0, 0, 0, 0])), (('CAN', '0.24'), array([0, 0, 1, 0, 0, 0, 0, 0])), (('CAN', '0.24'), array([0, 0, 1, 0, 0, 0, 0, 0])), (('CAN', '0.24'), array([0, 0, 1, 0, 0, 0, 0, 0])), (('CAN', '-2.9'), array([0, 2, 1, 0, 0, 0, 0, 0])), (('CAN', '0.24'), array([0, 0, 1, 0, 0, 0, 0, 0])), (('CAN', '0.24'), array([0, 0, 1, 0, 0, 0, 0, 0])), (('CAN', '0.24'), array([0, 0, 1, 0, 0, 0, 0, 0])), (('CAN', '0.24'), array([0, 0, 1, 0, 0, 0, 0, 0])), (('CAN', '0.24'), array([0, 0, 1, 0, 0, 0, 0, 0])), (('CAN', '0.24'), array([0, 0, 1, 0, 0, 0, 0, 0])), (('CAN', '0.24'), array([0, 0, 1, 0, 0, 0, 0, 0])), (('CAN', '0.24'), array([0, 0, 1, 0, 0, 0, 0, 0])), (('CAN', '0.24'), array([0, 0, 1, 0, 0, 0, 0, 0])), (('CAN', '-0.9'), array([0, 0, 0, 0, 0, 0, 0, 0])), (('CAN', '-1.3'), array([0, 0, 0, 0, 1, 0, 0, 0])), (('CAN', '-1.3'), array([0, 0, 0, 0, 1, 0, 0, 0])), (('CAN', '-10.'), array([0, 0, 0, 2, 0, 0, 0, 0])), (('CAN', '-4.9'), array([0, 0, 1, 2, 0, 0, 0, 0])), (('CAN', '-6.2'), array([0, 0, 0, 1, 1, 0, 0, 0])), (('CAN', '-4.9'), array([0, 0, 1, 2, 0, 0, 0, 0])), (('CAN', '-4.3'), array([0, 0, 0, 0, 0, 0, 0, 0])), (('CAN', '-4.3'), array([0, 0, 0, 0, 0, 0, 0, 0])), (('CHN', '-4.6'), array([0, 0, 0, 0, 0, 0, 0, 0])), (('CHN', '-2.4'), array([0, 0, 1, 0, 0, 0, 0, 0])), (('CHN', '-2.4'), array([0, 0, 1, 0, 0, 0, 0, 0])), (('CHN', '-3.0'), array([0, 0, 0, 1, 0, 0, 0, 0])), (('COL', '0.61'), array([0, 0, 0, 1, 1, 0, 0, 0])), (('COL', '0.61'), array([0, 0, 0, 1, 1, 0, 0, 0])), (('CUB', '-3.0'), array([0, 0, 0, 0, 1, 0, 0, 0])), (('DEU', '1.18'), array([0, 0, 0, 0, 0, 0, 0, 0])), (('DNK', '-4.9'), array([0, 0, 0, 1, 0, 0, 0, 0])), (('DNK', '-4.9'), array([0, 0, 0, 1, 0, 0, 0, 0])), (('EGY', '3.08'), array([0, 0, 0, 0, 1, 0, 0, 0])), (('EGY', '-1.1'), array([0, 0, 1, 1, 0, 0, 0, 0])), (('EGY', '-1.1'), array([0, 0, 1, 1, 0, 0, 0, 0])), (('EGY', '-1.1'), array([0, 0, 1, 1, 0, 0, 0, 0])), (('ESP', '-1.6'), array([0, 0, 0, 0, 0, 0, 0, 0])), (('ESP', '-1.6'), array([0, 0, 0, 0, 0, 0, 0, 0])), (('FJI', '-1.8'), array([0, 0, 0, 0, 1, 0, 0, 0])), (('FJI', '-1.8'), array([0, 0, 0, 0, 1, 0, 0, 0])), (('FJI', '-1.8'), array([0, 0, 0, 0, 1, 0, 0, 0])), (('FRA', '0.11'), array([0, 1, 0, 0, 0, 0, 0, 0])), (('FRA', '0.11'), array([0, 1, 0, 0, 0, 0, 0, 0])), (('FRA', '0.11'), array([0, 1, 0, 0, 0, 0, 0, 0])), (('FRA', '1.92'), array([0, 0, 0, 0, 1, 0, 0, 0])), (('FRA', '-5.9'), array([0, 0, 0, 0, 0, 0, 0, 0])), (('FRA', '-5.9'), array([0, 0, 0, 0, 0, 0, 0, 0])), (('FRA', '-3.3'), array([0, 0, 0, 0, 0, 0, 0, 0])), (('FRA', '-2.8'), array([0, 1, 0, 2, 0, 0, 0, 0])), (('FRA', '-2.8'), array([0, 1, 0, 2, 0, 0, 0, 0])), (('FRA', '-2.8'), array([0, 1, 0, 2, 0, 0, 0, 0])), (('FRA', '-2.8'), array([0, 1, 0, 2, 0, 0, 0, 0])), (('FRA', '-2.8'), array([0, 1, 0, 2, 0, 0, 0, 0])), (('FRA', '-1.9'), array([0, 0, 0, 0, 2, 0, 0, 0])), (('FRA', '-2.8'), array([0, 1, 0, 2, 0, 0, 0, 0])), (('FRA', '-2.8'), array([0, 1, 0, 2, 0, 0, 0, 0])), (('FRA', '1.92'), array([0, 0, 0, 0, 1, 0, 0, 0])), (('FRA', '1.92'), array([0, 0, 0, 0, 1, 0, 0, 0])), (('FRA', '0.11'), array([0, 1, 0, 0, 0, 0, 0, 0])), (('FRA', '1.92'), array([0, 0, 0, 0, 1, 0, 0, 0])), (('FRA', '-5.9'), array([0, 0, 0, 0, 0, 0, 0, 0])), (('FRA', '0.11'), array([0, 1, 0, 0, 0, 0, 0, 0])), (('FRA', '0.11'), array([0, 1, 0, 0, 0, 0, 0, 0])), (('FRA', '0.11'), array([0, 1, 0, 0, 0, 0, 0, 0])), (('FRA', '0.11'), array([0, 1, 0, 0, 0, 0, 0, 0])), (('FRA', '-2.8'), array([0, 1, 0, 2, 0, 0, 0, 0])), (('FRA', '-1.9'), array([0, 0, 0, 0, 2, 0, 0, 0])), (('FRA', '-2.8'), array([0, 1, 0, 2, 0, 0, 0, 0])), (('FRA', '-2.8'), array([0, 1, 0, 2, 0, 0, 0, 0])), (('GBR', '-0.9'), array([0, 0, 0, 0, 2, 0, 0, 0])), (('GBR', '-2.3'), array([0, 0, 0, 0, 0, 0, 0, 0])), (('GBR', '-0.6'), array([0, 0, 0, 0, 0, 0, 0, 0])), (('GBR', '-0.9'), array([0, 0, 0, 0, 2, 0, 0, 0])), (('GBR', '2.08'), array([0, 0, 0, 0, 0, 0, 0, 0])), (('GBR', '-0.9'), array([0, 0, 0, 0, 2, 0, 0, 0])), (('GBR', '-0.9'), array([0, 0, 0, 0, 2, 0, 0, 0])), (('GBR', '0.54'), array([0, 1, 2, 0, 0, 0, 0, 0])), (('GBR', '-3.4'), array([0, 0, 0, 0, 0, 0, 0, 0])), (('GBR', '1.21'), array([0, 0, 0, 0, 2, 0, 0, 0])), (('GBR', '2.45'), array([0, 0, 0, 0, 2, 0, 0, 0])), (('GHA', '-0.6'), array([0, 0, 0, 0, 0, 0, 0, 0])), (('GRC', '-2.5'), array([0, 0, 0, 0, 0, 0, 0, 0]))]\n",
            "[('CAN', [0.0, 0.20880991222872944, 0.4027048307268354, 0.6338872335515001, 0.6264297366861883, 0.0, 0.0, -0.0]), ('CHN', [0.0, 0.491726111842046, 0.3226952608963427, 0.50709255283711, 0.6300240807976214, 0.0, 0.0, -0.0]), ('COL', [0.0, 0.08481889296799709, 0.4240944648399855, 0.5937322507759797, 0.6785511437439767, 0.0, 0.0, -0.0]), ('CUB', [0.0, 0.6432675209026769, 0.5360562674188974, 0.5360562674188974, 0.10721125348377948, 0.0, 0.0, -0.0]), ('DEU', [0.0, 0.16796775328675628, 0.33593550657351257, 0.8398387664337815, 0.391924757669098, 0.0, 0.0, -0.0]), ('DNK', [0.0, 0.0, 0.2672612419124244, 0.5345224838248488, 0.8017837257372732, 0.0, 0.0, -0.0]), ('EGY', [0.0, 0.0, 0.4195906791483445, 0.7552632224670202, 0.5035088149780135, 0.0, 0.0, -0.0]), ('ESP', [0.0, 0.211999576001272, 0.17666631333439334, 0.7773317786713307, 0.5653322026700587, 0.0, 0.0, -0.0]), ('FJI', [0.0, 0.0, 0.0, 0.0, 1.0, 0.0, 0.0, -0.0]), ('FRA', [0.0, 0.21399624418051005, 0.17323505481279386, 0.8967461660897564, 0.3464701096255877, 0.0, 0.0, -0.0]), ('GBR', [0.0, 0.11583858534085675, 0.27435454422834493, 0.49383817961102094, 0.8169668650355161, 0.0, 0.0, -0.0]), ('GHA', [0.0, 0.0, 0.0, 0.8064049958557055, 0.5913636636275174, 0.0, 0.0, -0.0]), ('GRC', [0.0, 0.18257418583505536, 0.3651483716701107, 0.7302967433402214, 0.5477225575051661, 0.0, 0.0, -0.0]), ('EUR', [0.0, 0.24639046870595455, 0.45171585929424996, 0.24639046870595455, 0.8213015623531817, 0.0, 0.0, -0.0]), ('IND', [0.0, 0.21170244960998524, 0.21170244960998524, 0.8997354108424372, 0.31755367441497784, 0.0, 0.0, -0.0]), ('IRN', [0.0, 0.0, 0.894427190999916, 0.447213595499958, 0.0, 0.0, 0.0, -0.0]), ('IRQ', [0.0, 0.0, 0.8320502943378437, 0.5547001962252291, 0.0, 0.0, 0.0, -0.0]), ('ISL', [0.0, 0.0, 0.0, 0.0, 1.0, 0.0, 0.0, 0.0]), ('ISR', [0.0, 0.41983210073284694, 0.5397841295136604, 0.7197121726848805, 0.11995202878081342, 0.0, 0.0, -0.0]), ('ITA', [0.0, 0.08114408259335794, 0.6897247020435425, 0.5477225575051661, 0.46657847491180815, 0.0, 0.0, -0.0]), ('JAM', [0.0, 0.0, 0.0, 0.7474093186836598, 0.6643638388299198, 0.0, 0.0, -0.0]), ('JOR', [0.0, 0.0, 0.816496580927726, 0.408248290463863, 0.408248290463863, 0.0, 0.0, -0.0]), ('LBR', [0.0, 0.0, 0.0, 1.0, 0.0, 0.0, 0.0, -0.0]), ('LKA', [0.0, 0.0, 0.0, 0.3713906763541037, 0.9284766908852593, 0.0, 0.0, -0.0]), ('MAR', [0.0, 0.0, 0.0, 0.0, 1.0, 0.0, 0.0, 0.0]), ('MDV', [0.0, 0.0, 0.0, 0.9486832980505138, 0.31622776601683794, 0.0, 0.0, -0.0]), ('MEX', [0.0, 0.1386750490563073, 0.1386750490563073, 0.6933752452815365, 0.6933752452815365, 0.0, 0.0, -0.0]), ('BRA', [0.0, 0.07647191129018725, 0.07647191129018725, 0.0, 0.9941348467724342, 0.0, 0.0, -0.0]), ('USA', [0.0, 0.2504455418419026, 0.38616603008556843, 0.6801021151215739, 0.5706259201846943, 0.0, 0.0, -0.0]), ('NGA', [0.0, 0.18076935355971008, 0.5293959639962939, 0.7876378976530225, 0.2582419336567287, 0.0, 0.0, -0.0]), ('NZL', [0.0, 0.19477234678290495, 0.11686340806974298, 0.5843170403487149, 0.7790893871316198, 0.0, 0.0, -0.0]), ('PAK', [0.0, 0.4483219332480461, 0.19925419255468715, 0.4483219332480461, 0.7472032220800768, 0.0, 0.0, -0.0]), ('QAT', [0.0, 0.0, 0.0, 0.9938837346736188, 0.11043152607484653, 0.0, 0.0, -0.0]), ('RUS', [0.0, 0.07783515430536674, 0.3891757715268337, 0.07783515430536674, 0.9145630630880591, 0.0, 0.0, -0.0]), ('RWA', [0.0, 0.0, 1.0, 0.0, 0.0, 0.0, 0.0, -0.0]), ('SAU', [0.0, 0.07949286335171643, 0.2782250217310075, 0.07949286335171643, 0.9539143602205972, 0.0, 0.0, -0.0]), ('SEA', [0.0, 0.0, 0.0, 0.0, 0.0, 0.0, 0.0, -0.0]), ('SEN', [0.0, 0.0, 0.0, 0.0, 0.0, 0.0, 0.0, -0.0]), ('TTO', [0.0, 1.0, 0.0, 0.0, 0.0, 0.0, 0.0, -0.0]), ('VAT', [0.0, 0.2672612419124244, 0.8017837257372732, 0.5345224838248488, 0.0, 0.0, 0.0, -0.0]), ('YEM', [0.0, 0.0, 0.4472135954999579, 0.8944271909999159, 0.0, 0.0, 0.0, -0.0]), ('ZWE', [0.0, 0.6823911939349404, 0.23883691787722916, 0.6482716342381935, 0.23883691787722916, 0.0, 0.0, -0.0]), ('HND', [0.0, 0.0, 0.8944271909999159, 0.0, 0.4472135954999579, 0.0, 0.0, -0.0]), ('JPN', [0.0, 0.1130466837888443, 0.39566339326095507, 0.4521867351553772, 0.7913267865219101, 0.0, 0.0, -0.0]), ('KAZ', [0.0, 0.0, 0.8944271909999159, 0.0, 0.4472135954999579, 0.0, 0.0, -0.0]), ('KEN', [0.0, 0.408248290463863, 0.0, 0.816496580927726, 0.408248290463863, 0.0, 0.0, -0.0]), ('KOR', [0.0, 0.0890870806374748, 0.44543540318737396, 0.7126966450997984, 0.5345224838248488, 0.0, 0.0, -0.0]), ('MLI', [0.0, 0.0, 0.0, 0.0, 0.0, 0.0, 0.0, 0.0]), ('MMR', [0.0, 0.4472135954999579, 0.0, 0.8944271909999159, 0.0, 0.0, 0.0, -0.0]), ('MYS', [0.0, 0.1796053020267749, 0.3592106040535498, 0.1796053020267749, 0.8980265101338746, 0.0, 0.0, -0.0]), ('NLD', [0.0, 0.0, 0.11624763874381928, 0.9299811099505543, 0.34874291623145787, 0.0, 0.0, -0.0]), ('NOR', [0.0, 0.0, 0.0, 0.4472135954999579, 0.8944271909999159, 0.0, 0.0, -0.0]), ('PAN', [0.0, 0.0, 0.8944271909999159, 0.0, 0.4472135954999579, 0.0, 0.0, -0.0]), ('PRK', [0.0, 0.0, 0.0, 0.8944271909999159, 0.4472135954999579, 0.0, 0.0, -0.0]), ('PSE', [0.0, 0.5454545454545454, 0.8181818181818182, 0.18181818181818182, 0.0, 0.0, 0.0, -0.0]), ('SAS', [0.0, 0.0, 0.7071067811865475, 0.0, 0.7071067811865475, 0.0, 0.0, 0.0]), ('SGP', [0.0, 0.14655959062380944, 0.0, 0.34197237812222203, 0.9282107406174598, 0.0, 0.0, -0.0]), ('SYR', [0.0, 0.0, 1.0, 0.0, 0.0, 0.0, 0.0, -0.0]), ('TCD', [0.0, 0.6965260331469925, 0.0, 0.39801487608399566, 0.5970223141259935, 0.0, 0.0, -0.0]), ('THA', [0.0, 0.05679618342470648, 0.4543694673976518, 0.7951465679458907, 0.39757328397294533, 0.0, 0.0, -0.0]), ('TZA', [0.0, 0.0, 1.0, 0.0, 0.0, 0.0, 0.0, -0.0]), ('UKR', [0.0, 0.03322277470925477, 0.03322277470925477, 0.9966832412776431, 0.06644554941850954, 0.0, 0.0, -0.0]), ('ZAF', [0.0, 0.0, 0.0, 0.0, 0.0, 0.0, 0.0, 0.0]), ('AFR', [0.0, 0.13423121104280486, 0.469809238649817, 0.0, 0.8725028717782316, 0.0, 0.0, -0.0]), ('ARE', [0.0, 1.0, 0.0, 0.0, 0.0, 0.0, 0.0, 0.0]), ('AUS', [0.0, 0.19252286344763223, 0.44005225930887365, 0.6600783889633105, 0.5775685903428966, 0.0, 0.0, -0.0]), ('AUT', [0.0, 0.4082482904638631, 0.0, 0.8164965809277261, 0.4082482904638631, 0.0, 0.0, -0.0]), ('NMR', [0.0, 0.0, 0.7071067811865475, 0.7071067811865475, 0.0, 0.0, 0.0, 0.0]), ('NRU', [0.0, 0.0, 1.0, 0.0, 0.0, 0.0, 0.0, -0.0]), ('PHL', [0.0, 0.0, 0.4242640687119285, 0.565685424949238, 0.7071067811865475, 0.0, 0.0, -0.0]), ('TUR', [0.0, 0.39477101697586137, 0.8553372034476997, 0.3289758474798845, 0.0657951694959769, 0.0, 0.0, -0.0]), ('ZMB', [0.0, 0.0, 1.0, 0.0, 0.0, 0.0, 0.0, -0.0]), ('CHE', [0.0, 0.06468462273531508, 0.19405386820594525, 0.12936924547063017, 0.9702693410297263, 0.0, 0.0, -0.0]), ('AFG', [0.0, 0.6110747600782918, 0.0, 0.6401735581772581, 0.4655807695834604, 0.0, 0.0, -0.0]), ('BGD', [0.0, 0.7071067811865476, 0.0, 0.7071067811865476, 0.0, 0.0, 0.0, -0.0]), ('VEN', [0.0, 0.4082482904638631, 0.0, 0.4082482904638631, 0.8164965809277261, 0.0, 0.0, -0.0]), ('VNM', [0.0, 0.1303116728289208, 0.17374889710522776, 0.5212466913156832, 0.8253072612498319, 0.0, 0.0, -0.0]), ('DZA', [0.0, 0.0, 0.0, 0.2940858488375231, 0.95577900872195, 0.0, 0.0, -0.0]), ('EST', [0.0, 1.0, 0.0, 0.0, 0.0, 0.0, 0.0, -0.0]), ('WSM', [0.0, 0.0, 0.0, 0.0, 0.0, 0.0, 0.0, 0.0]), ('IRL', [0.0, 0.04940656788693332, 0.16468855962311107, 0.774036230228622, 0.609347670605511, 0.0, 0.0, -0.0]), ('BEL', [0.0, 0.3904344047215152, 0.2342606428329091, 0.2342606428329091, 0.8589556903873334, 0.0, 0.0, -0.0]), ('BLZ', [0.0, 0.0, 0.30151134457776363, 0.30151134457776363, 0.9045340337332909, 0.0, 0.0, 0.0]), ('BWA', [0.0, 0.0, 0.0, 1.0, 0.0, 0.0, 0.0, -0.0]), ('CZE', [0.0, 0.0, 0.0, 0.0, 0.0, 0.0, 0.0, 0.0]), ('GUY', [0.0, 0.0, 0.0, 0.0, 0.0, 0.0, 0.0, 0.0]), ('HTI', [0.0, 0.0, 0.0, 0.0, 1.0, 0.0, 0.0, 0.0]), ('IDN', [0.0, 0.0, 0.07580980435789034, 0.15161960871578067, 0.9855274566525744, 0.0, 0.0, -0.0]), ('MWI', [0.0, 0.3333333333333333, 0.6666666666666666, 0.6666666666666666, 0.0, 0.0, 0.0, -0.0]), ('POL', [0.0, 0.0, 0.7071067811865475, 0.0, 0.7071067811865475, 0.0, 0.0, -0.0]), ('PRT', [0.0, 0.10783277320343841, 0.0, 0.9704949588309457, 0.21566554640687682, 0.0, 0.0, -0.0]), ('SVK', [0.0, 0.0, 0.0, 0.0, 0.0, 0.0, 0.0, 0.0]), ('KIR', [0.0, 0.0, 0.0, 0.0, 0.0, 0.0, 0.0, -0.0]), ('LBN', [0.0, 0.0, 0.9701425001453319, 0.0, 0.24253562503633297, 0.0, 0.0, -0.0]), ('MHL', [0.0, 0.0, 0.0, 0.0, 1.0, 0.0, 0.0, -0.0]), ('TKM', [0.0, 0.0, 0.0, 0.0, 0.0, 0.0, 0.0, -0.0]), ('TUN', [0.0, 0.0, 0.0, 0.8574929257125441, 0.5144957554275265, 0.0, 0.0, -0.0]), ('ETH', [0.0, 0.36650833306891567, 0.0, 0.36650833306891567, 0.8551861104941365, 0.0, 0.0, -0.0]), ('HUN', [0.0, 0.468292905790847, 0.468292905790847, 0.0, 0.7492686492653552, 0.0, 0.0, -0.0]), ('LTU', [0.0, 0.0, 0.0, 0.7071067811865475, 0.7071067811865475, 0.0, 0.0, -0.0])]\n",
            "[('CAN', [0.0, 0.20880991222872944, 0.4027048307268354, 0.6338872335515001, 0.6264297366861883, 0.0, 0.0, -0.0]), ('CHN', [0.0, 0.491726111842046, 0.3226952608963427, 0.50709255283711, 0.6300240807976214, 0.0, 0.0, -0.0]), ('COL', [0.0, 0.08481889296799709, 0.4240944648399855, 0.5937322507759797, 0.6785511437439767, 0.0, 0.0, -0.0]), ('CUB', [0.0, 0.6432675209026769, 0.5360562674188974, 0.5360562674188974, 0.10721125348377948, 0.0, 0.0, -0.0]), ('DEU', [0.0, 0.16796775328675628, 0.33593550657351257, 0.8398387664337815, 0.391924757669098, 0.0, 0.0, -0.0]), ('DNK', [0.0, 0.0, 0.2672612419124244, 0.5345224838248488, 0.8017837257372732, 0.0, 0.0, -0.0]), ('EGY', [0.0, 0.0, 0.4195906791483445, 0.7552632224670202, 0.5035088149780135, 0.0, 0.0, -0.0]), ('ESP', [0.0, 0.211999576001272, 0.17666631333439334, 0.7773317786713307, 0.5653322026700587, 0.0, 0.0, -0.0]), ('FJI', [0.0, 0.0, 0.0, 0.0, 1.0, 0.0, 0.0, -0.0]), ('FRA', [0.0, 0.21399624418051005, 0.17323505481279386, 0.8967461660897564, 0.3464701096255877, 0.0, 0.0, -0.0]), ('GBR', [0.0, 0.11583858534085675, 0.27435454422834493, 0.49383817961102094, 0.8169668650355161, 0.0, 0.0, -0.0]), ('GHA', [0.0, 0.0, 0.0, 0.8064049958557055, 0.5913636636275174, 0.0, 0.0, -0.0]), ('GRC', [0.0, 0.18257418583505536, 0.3651483716701107, 0.7302967433402214, 0.5477225575051661, 0.0, 0.0, -0.0]), ('EUR', [0.0, 0.24639046870595455, 0.45171585929424996, 0.24639046870595455, 0.8213015623531817, 0.0, 0.0, -0.0]), ('IND', [0.0, 0.21170244960998524, 0.21170244960998524, 0.8997354108424372, 0.31755367441497784, 0.0, 0.0, -0.0]), ('IRN', [0.0, 0.0, 0.894427190999916, 0.447213595499958, 0.0, 0.0, 0.0, -0.0]), ('IRQ', [0.0, 0.0, 0.8320502943378437, 0.5547001962252291, 0.0, 0.0, 0.0, -0.0]), ('ISL', [0.0, 0.0, 0.0, 0.0, 1.0, 0.0, 0.0, 0.0]), ('ISR', [0.0, 0.41983210073284694, 0.5397841295136604, 0.7197121726848805, 0.11995202878081342, 0.0, 0.0, -0.0]), ('ITA', [0.0, 0.08114408259335794, 0.6897247020435425, 0.5477225575051661, 0.46657847491180815, 0.0, 0.0, -0.0]), ('JAM', [0.0, 0.0, 0.0, 0.7474093186836598, 0.6643638388299198, 0.0, 0.0, -0.0]), ('JOR', [0.0, 0.0, 0.816496580927726, 0.408248290463863, 0.408248290463863, 0.0, 0.0, -0.0]), ('LBR', [0.0, 0.0, 0.0, 1.0, 0.0, 0.0, 0.0, -0.0]), ('LKA', [0.0, 0.0, 0.0, 0.3713906763541037, 0.9284766908852593, 0.0, 0.0, -0.0]), ('MAR', [0.0, 0.0, 0.0, 0.0, 1.0, 0.0, 0.0, 0.0]), ('MDV', [0.0, 0.0, 0.0, 0.9486832980505138, 0.31622776601683794, 0.0, 0.0, -0.0]), ('MEX', [0.0, 0.1386750490563073, 0.1386750490563073, 0.6933752452815365, 0.6933752452815365, 0.0, 0.0, -0.0]), ('BRA', [0.0, 0.07647191129018725, 0.07647191129018725, 0.0, 0.9941348467724342, 0.0, 0.0, -0.0]), ('USA', [0.0, 0.2504455418419026, 0.38616603008556843, 0.6801021151215739, 0.5706259201846943, 0.0, 0.0, -0.0]), ('NGA', [0.0, 0.18076935355971008, 0.5293959639962939, 0.7876378976530225, 0.2582419336567287, 0.0, 0.0, -0.0]), ('NZL', [0.0, 0.19477234678290495, 0.11686340806974298, 0.5843170403487149, 0.7790893871316198, 0.0, 0.0, -0.0]), ('PAK', [0.0, 0.4483219332480461, 0.19925419255468715, 0.4483219332480461, 0.7472032220800768, 0.0, 0.0, -0.0]), ('QAT', [0.0, 0.0, 0.0, 0.9938837346736188, 0.11043152607484653, 0.0, 0.0, -0.0]), ('RUS', [0.0, 0.07783515430536674, 0.3891757715268337, 0.07783515430536674, 0.9145630630880591, 0.0, 0.0, -0.0]), ('RWA', [0.0, 0.0, 1.0, 0.0, 0.0, 0.0, 0.0, -0.0]), ('SAU', [0.0, 0.07949286335171643, 0.2782250217310075, 0.07949286335171643, 0.9539143602205972, 0.0, 0.0, -0.0]), ('SEA', [0.0, 0.0, 0.0, 0.0, 0.0, 0.0, 0.0, -0.0]), ('SEN', [0.0, 0.0, 0.0, 0.0, 0.0, 0.0, 0.0, -0.0]), ('TTO', [0.0, 1.0, 0.0, 0.0, 0.0, 0.0, 0.0, -0.0]), ('VAT', [0.0, 0.2672612419124244, 0.8017837257372732, 0.5345224838248488, 0.0, 0.0, 0.0, -0.0]), ('YEM', [0.0, 0.0, 0.4472135954999579, 0.8944271909999159, 0.0, 0.0, 0.0, -0.0]), ('ZWE', [0.0, 0.6823911939349404, 0.23883691787722916, 0.6482716342381935, 0.23883691787722916, 0.0, 0.0, -0.0]), ('HND', [0.0, 0.0, 0.8944271909999159, 0.0, 0.4472135954999579, 0.0, 0.0, -0.0]), ('JPN', [0.0, 0.1130466837888443, 0.39566339326095507, 0.4521867351553772, 0.7913267865219101, 0.0, 0.0, -0.0]), ('KAZ', [0.0, 0.0, 0.8944271909999159, 0.0, 0.4472135954999579, 0.0, 0.0, -0.0]), ('KEN', [0.0, 0.408248290463863, 0.0, 0.816496580927726, 0.408248290463863, 0.0, 0.0, -0.0]), ('KOR', [0.0, 0.0890870806374748, 0.44543540318737396, 0.7126966450997984, 0.5345224838248488, 0.0, 0.0, -0.0]), ('MLI', [0.0, 0.0, 0.0, 0.0, 0.0, 0.0, 0.0, 0.0]), ('MMR', [0.0, 0.4472135954999579, 0.0, 0.8944271909999159, 0.0, 0.0, 0.0, -0.0]), ('MYS', [0.0, 0.1796053020267749, 0.3592106040535498, 0.1796053020267749, 0.8980265101338746, 0.0, 0.0, -0.0]), ('NLD', [0.0, 0.0, 0.11624763874381928, 0.9299811099505543, 0.34874291623145787, 0.0, 0.0, -0.0]), ('NOR', [0.0, 0.0, 0.0, 0.4472135954999579, 0.8944271909999159, 0.0, 0.0, -0.0]), ('PAN', [0.0, 0.0, 0.8944271909999159, 0.0, 0.4472135954999579, 0.0, 0.0, -0.0]), ('PRK', [0.0, 0.0, 0.0, 0.8944271909999159, 0.4472135954999579, 0.0, 0.0, -0.0]), ('PSE', [0.0, 0.5454545454545454, 0.8181818181818182, 0.18181818181818182, 0.0, 0.0, 0.0, -0.0]), ('SAS', [0.0, 0.0, 0.7071067811865475, 0.0, 0.7071067811865475, 0.0, 0.0, 0.0]), ('SGP', [0.0, 0.14655959062380944, 0.0, 0.34197237812222203, 0.9282107406174598, 0.0, 0.0, -0.0]), ('SYR', [0.0, 0.0, 1.0, 0.0, 0.0, 0.0, 0.0, -0.0]), ('TCD', [0.0, 0.6965260331469925, 0.0, 0.39801487608399566, 0.5970223141259935, 0.0, 0.0, -0.0]), ('THA', [0.0, 0.05679618342470648, 0.4543694673976518, 0.7951465679458907, 0.39757328397294533, 0.0, 0.0, -0.0]), ('TZA', [0.0, 0.0, 1.0, 0.0, 0.0, 0.0, 0.0, -0.0]), ('UKR', [0.0, 0.03322277470925477, 0.03322277470925477, 0.9966832412776431, 0.06644554941850954, 0.0, 0.0, -0.0]), ('ZAF', [0.0, 0.0, 0.0, 0.0, 0.0, 0.0, 0.0, 0.0]), ('AFR', [0.0, 0.13423121104280486, 0.469809238649817, 0.0, 0.8725028717782316, 0.0, 0.0, -0.0]), ('ARE', [0.0, 1.0, 0.0, 0.0, 0.0, 0.0, 0.0, 0.0]), ('AUS', [0.0, 0.19252286344763223, 0.44005225930887365, 0.6600783889633105, 0.5775685903428966, 0.0, 0.0, -0.0]), ('AUT', [0.0, 0.4082482904638631, 0.0, 0.8164965809277261, 0.4082482904638631, 0.0, 0.0, -0.0]), ('NMR', [0.0, 0.0, 0.7071067811865475, 0.7071067811865475, 0.0, 0.0, 0.0, 0.0]), ('NRU', [0.0, 0.0, 1.0, 0.0, 0.0, 0.0, 0.0, -0.0]), ('PHL', [0.0, 0.0, 0.4242640687119285, 0.565685424949238, 0.7071067811865475, 0.0, 0.0, -0.0]), ('TUR', [0.0, 0.39477101697586137, 0.8553372034476997, 0.3289758474798845, 0.0657951694959769, 0.0, 0.0, -0.0]), ('ZMB', [0.0, 0.0, 1.0, 0.0, 0.0, 0.0, 0.0, -0.0]), ('CHE', [0.0, 0.06468462273531508, 0.19405386820594525, 0.12936924547063017, 0.9702693410297263, 0.0, 0.0, -0.0]), ('AFG', [0.0, 0.6110747600782918, 0.0, 0.6401735581772581, 0.4655807695834604, 0.0, 0.0, -0.0]), ('BGD', [0.0, 0.7071067811865476, 0.0, 0.7071067811865476, 0.0, 0.0, 0.0, -0.0]), ('VEN', [0.0, 0.4082482904638631, 0.0, 0.4082482904638631, 0.8164965809277261, 0.0, 0.0, -0.0]), ('VNM', [0.0, 0.1303116728289208, 0.17374889710522776, 0.5212466913156832, 0.8253072612498319, 0.0, 0.0, -0.0]), ('DZA', [0.0, 0.0, 0.0, 0.2940858488375231, 0.95577900872195, 0.0, 0.0, -0.0]), ('EST', [0.0, 1.0, 0.0, 0.0, 0.0, 0.0, 0.0, -0.0]), ('WSM', [0.0, 0.0, 0.0, 0.0, 0.0, 0.0, 0.0, 0.0]), ('IRL', [0.0, 0.04940656788693332, 0.16468855962311107, 0.774036230228622, 0.609347670605511, 0.0, 0.0, -0.0]), ('BEL', [0.0, 0.3904344047215152, 0.2342606428329091, 0.2342606428329091, 0.8589556903873334, 0.0, 0.0, -0.0]), ('BLZ', [0.0, 0.0, 0.30151134457776363, 0.30151134457776363, 0.9045340337332909, 0.0, 0.0, 0.0]), ('BWA', [0.0, 0.0, 0.0, 1.0, 0.0, 0.0, 0.0, -0.0]), ('CZE', [0.0, 0.0, 0.0, 0.0, 0.0, 0.0, 0.0, 0.0]), ('GUY', [0.0, 0.0, 0.0, 0.0, 0.0, 0.0, 0.0, 0.0]), ('HTI', [0.0, 0.0, 0.0, 0.0, 1.0, 0.0, 0.0, 0.0]), ('IDN', [0.0, 0.0, 0.07580980435789034, 0.15161960871578067, 0.9855274566525744, 0.0, 0.0, -0.0]), ('MWI', [0.0, 0.3333333333333333, 0.6666666666666666, 0.6666666666666666, 0.0, 0.0, 0.0, -0.0]), ('POL', [0.0, 0.0, 0.7071067811865475, 0.0, 0.7071067811865475, 0.0, 0.0, -0.0]), ('PRT', [0.0, 0.10783277320343841, 0.0, 0.9704949588309457, 0.21566554640687682, 0.0, 0.0, -0.0]), ('SVK', [0.0, 0.0, 0.0, 0.0, 0.0, 0.0, 0.0, 0.0]), ('KIR', [0.0, 0.0, 0.0, 0.0, 0.0, 0.0, 0.0, -0.0]), ('LBN', [0.0, 0.0, 0.9701425001453319, 0.0, 0.24253562503633297, 0.0, 0.0, -0.0]), ('MHL', [0.0, 0.0, 0.0, 0.0, 1.0, 0.0, 0.0, -0.0]), ('TKM', [0.0, 0.0, 0.0, 0.0, 0.0, 0.0, 0.0, -0.0]), ('TUN', [0.0, 0.0, 0.0, 0.8574929257125441, 0.5144957554275265, 0.0, 0.0, -0.0]), ('ETH', [0.0, 0.36650833306891567, 0.0, 0.36650833306891567, 0.8551861104941365, 0.0, 0.0, -0.0]), ('HUN', [0.0, 0.468292905790847, 0.468292905790847, 0.0, 0.7492686492653552, 0.0, 0.0, -0.0]), ('LTU', [0.0, 0.0, 0.0, 0.7071067811865475, 0.7071067811865475, 0.0, 0.0, -0.0]), ('NIC', [0.0, 0.0, 0.0, 0.0, 0.0, 0.0, 0.0, -0.0]), ('COD', [0.0, 0.7071067811865475, 0.7071067811865475, 0.0, 0.0, 0.0, 0.0, -0.0]), ('DJI', [0.0, 0.0, 0.0, 0.0, 0.0, 0.0, 0.0, -0.0]), ('ARG', [0.0, 0.0, 1.0, 0.0, 0.0, 0.0, 0.0, -0.0]), ('KHM', [0.0, 0.0, 0.0, 0.0, 0.0, 0.0, 0.0, -0.0]), ('BHS', [0.0, 0.0, 0.0, 0.0, 0.0, 0.0, 0.0, 0.0]), ('BOL', [0.0, 0.0, 0.0, 0.0, 0.0, 0.0, 0.0, 0.0]), ('SWE', [0.0, 0.0, 0.0, 0.0, 1.0, 0.0, 0.0, -0.0]), ('ECU', [0.0, 0.0, 1.0, 0.0, 0.0, 0.0, 0.0, -0.0]), ('GRD', [0.0, 0.0, 1.0, 0.0, 0.0, 0.0, 0.0, -0.0]), ('LAO', [0.0, 0.0, 0.0, 0.0, 0.0, 0.0, 0.0, 0.0]), ('NPL', [0.0, 0.0, 0.0, 0.0, 0.0, 0.0, 0.0, -0.0]), ('PER', [0.0, 0.0, 0.8549645998549158, 0.49872934991536755, 0.1424940999758193, 0.0, 0.0, 0.0]), ('SLV', [0.0, 0.0, 0.0, 0.4472135954999579, 0.8944271909999159, 0.0, 0.0, -0.0]), ('BGR', [0.0, 0.0, 0.7071067811865475, 0.0, 0.7071067811865475, 0.0, 0.0, -0.0]), ('CIV', [0.0, 0.0, 0.0, 0.0, 1.0, 0.0, 0.0, -0.0]), ('CRI', [0.0, 0.0, 0.0, 0.0, 1.0, 0.0, 0.0, 0.0]), ('CYP', [0.0, 0.0, 0.0, 1.0, 0.0, 0.0, 0.0, -0.0]), ('CHL', [0.0, 0.0, 0.7071067811865475, 0.0, 0.7071067811865475, 0.0, 0.0, -0.0]), ('KNA', [0.0, 0.0, 0.0, 0.0, 0.0, 0.0, 0.0, -0.0]), ('VUT', [0.0, 0.0, 0.0, 0.0, 0.0, 0.0, 0.0, 0.0]), ('CAS', [0.0, 0.0, 0.7071067811865475, 0.0, 0.7071067811865475, 0.0, 0.0, 0.0]), ('KGZ', [0.0, 0.0, 0.7071067811865475, 0.0, 0.7071067811865475, 0.0, 0.0, 0.0]), ('ARM', [0.0, 0.0, 0.0, 0.0, 0.0, 0.0, 0.0, 0.0]), ('MNG', [0.0, 0.0, 0.0, 0.0, 0.0, 0.0, 0.0, 0.0]), ('VCT', [0.0, 0.0, 0.0, 1.0, 0.0, 0.0, 0.0, 0.0]), ('SOM', [0.0, 0.0, 0.0, 0.0, 0.0, 0.0, 0.0, -0.0]), ('TWN', [0.0, 0.0, 0.5547001962252291, 0.0, 0.8320502943378437, 0.0, 0.0, -0.0]), ('KWT', [0.0, 0.0, 0.0, 0.9486832980505138, 0.31622776601683794, 0.0, 0.0, -0.0]), ('MCO', [0.0, 0.0, 0.0, 0.0, 0.0, 0.0, 0.0, 0.0]), ('CYM', [0.0, 0.0, 0.0, 0.0, 0.0, 0.0, 0.0, 0.0]), ('LBY', [0.0, 0.0, 0.0, 0.0, 1.0, 0.0, 0.0, -0.0]), ('SDN', [0.0, 0.0, 0.0, 1.0, 0.0, 0.0, 0.0, -0.0]), ('SSD', [0.0, 0.0, 0.0, 0.0, 0.0, 0.0, 0.0, -0.0]), ('DOM', [0.0, 0.0, 0.0, 1.0, 0.0, 0.0, 0.0, -0.0]), ('FIN', [0.0, 0.7071067811865476, 0.7071067811865476, 0.0, 0.0, 0.0, 0.0, -0.0]), ('UGA', [0.0, 0.0, 0.0, 0.0, 0.0, 0.0, 0.0, -0.0]), ('HRV', [0.0, 0.31622776601683794, 0.31622776601683794, 0.6324555320336759, 0.6324555320336759, 0.0, 0.0, -0.0]), ('MOZ', [0.0, 0.0, 0.0, 0.0, 0.0, 0.0, 0.0, -0.0]), ('SLB', [0.0, 0.0, 0.0, 0.0, 1.0, 0.0, 0.0, -0.0]), ('ATG', [0.0, 0.0, 0.0, 0.0, 1.0, 0.0, 0.0, -0.0]), ('AZE', [0.0, 0.0, 0.0, 0.0, 1.0, 0.0, 0.0, 0.0]), ('BDI', [0.0, 1.0, 0.0, 0.0, 0.0, 0.0, 0.0, 0.0]), ('all', [0.0, 0.0, 0.0, 0.0, 0.0, 0.0, 0.0, 0.0])]\n",
            "144\n",
            "[ 0.          0.25044554  0.38616603  0.68010212  0.57062592  0.\n",
            "  0.         -0.        ]\n"
          ],
          "name": "stdout"
        }
      ]
    },
    {
      "cell_type": "markdown",
      "metadata": {
        "id": "jdD_RlwNhiua"
      },
      "source": [
        "# Cosine similarity \n",
        "(output is simply the most similar overall, including the most similar article tone)"
      ]
    },
    {
      "cell_type": "code",
      "metadata": {
        "id": "3mM6QpOQxLeC",
        "colab": {
          "base_uri": "https://localhost:8080/",
          "height": 544
        },
        "outputId": "81368dcb-2dad-4abc-c68f-949027f132b5"
      },
      "source": [
        "import math\n",
        "\n",
        "\n",
        "def cos_similarity(v1, v2):\n",
        "  return v1.dot(v2) / (np.linalg.norm(v1)*np.linalg.norm(v2))\n",
        "b = adjustedarray.map(lambda x: (x[0],np.array(x[1])))\n",
        "c = b.map(lambda x: (x[0],cos_similarity(x[1], USA_VEC),x[1]))\n",
        "top_similar = c.takeOrdered(6, key = lambda x: 1-x[1])\n",
        "\n",
        "print (\"The most similar countries by media outlet  to the USA including tone\")\n",
        "for n in top_similar:\n",
        "  print(n[0],n[1], list(n[2]))\n",
        "\n",
        "\n",
        "\n",
        "\n",
        "e = b.map(lambda x: (x[0],cos_similarity(x[1][1:-1], USA_VEC[1:-1]),x[1]))\n",
        "top_similar_just_media = e.takeOrdered(6, key = lambda x: 1-x[1])\n",
        "\n",
        "print (\"\\nThe most similar countries by media outlet  to the USA ONLY articles\")\n",
        "for n in top_similar_just_media:\n",
        "  print(n[0],n[1], list(n[2]))\n",
        "\n",
        "def simple_distance(x1,x2):\n",
        "  return abs(x1 - x2)\n",
        "d = b.map(lambda x: (x[0],simple_distance(x[1][-1], USA_VEC[-1]),x[1]))\n",
        "top_similar_tone = d.takeOrdered(6, key = lambda x: x[1])\n",
        "print (\"\\nThe most similar countries by overall tone to the USA\")\n",
        "for n in top_similar_tone:\n",
        "  print(n[0],n[1], list(n[2]))\n",
        " \n",
        "top_similar_tone = d.takeOrdered(6, key = lambda x: 1-x[1])\n",
        "print (\"\\nThe least similar countries by overall tone to the USA\")\n",
        "for n in top_similar_tone:\n",
        "  print(n[0],n[1], list(n[2]))"
      ],
      "execution_count": null,
      "outputs": [
        {
          "output_type": "stream",
          "text": [
            "The most similar countries by media outlet  to the USA including tone\n",
            "USA 1.0 [0.0, 0.2504455418419026, 0.38616603008556843, 0.6801021151215739, 0.5706259201846943, 0.0, 0.0, -0.0]\n",
            "AUS 0.9966460436747704 [0.0, 0.19252286344763223, 0.44005225930887365, 0.6600783889633105, 0.5775685903428966, 0.0, 0.0, -0.0]\n",
            "CAN 0.9963715306026975 [0.0, 0.20880991222872944, 0.4027048307268354, 0.6338872335515001, 0.6264297366861883, 0.0, 0.0, -0.0]\n",
            "GRC 0.9959538361722424 [0.0, 0.18257418583505536, 0.3651483716701107, 0.7302967433402214, 0.5477225575051661, 0.0, 0.0, -0.0]\n",
            "HRV 0.9923441202101517 [0.0, 0.31622776601683794, 0.31622776601683794, 0.6324555320336759, 0.6324555320336759, 0.0, 0.0, -0.0]\n",
            "KOR 0.9840423634541837 [0.0, 0.0890870806374748, 0.44543540318737396, 0.7126966450997984, 0.5345224838248488, 0.0, 0.0, -0.0]\n",
            "\n",
            "The most similar countries by media outlet  to the USA ONLY articles\n",
            "USA 1.0 [0.0, 0.2504455418419026, 0.38616603008556843, 0.6801021151215739, 0.5706259201846943, 0.0, 0.0, -0.0]\n",
            "AUS 0.9966460436747704 [0.0, 0.19252286344763223, 0.44005225930887365, 0.6600783889633105, 0.5775685903428966, 0.0, 0.0, -0.0]\n",
            "CAN 0.9963715306026975 [0.0, 0.20880991222872944, 0.4027048307268354, 0.6338872335515001, 0.6264297366861883, 0.0, 0.0, -0.0]\n",
            "GRC 0.9959538361722424 [0.0, 0.18257418583505536, 0.3651483716701107, 0.7302967433402214, 0.5477225575051661, 0.0, 0.0, -0.0]\n",
            "HRV 0.9923441202101517 [0.0, 0.31622776601683794, 0.31622776601683794, 0.6324555320336759, 0.6324555320336759, 0.0, 0.0, -0.0]\n",
            "KOR 0.9840423634541837 [0.0, 0.0890870806374748, 0.44543540318737396, 0.7126966450997984, 0.5345224838248488, 0.0, 0.0, -0.0]\n",
            "\n",
            "The most similar countries by overall tone to the USA\n",
            "CAN 0.0 [0.0, 0.20880991222872944, 0.4027048307268354, 0.6338872335515001, 0.6264297366861883, 0.0, 0.0, -0.0]\n",
            "CHN 0.0 [0.0, 0.491726111842046, 0.3226952608963427, 0.50709255283711, 0.6300240807976214, 0.0, 0.0, -0.0]\n",
            "COL 0.0 [0.0, 0.08481889296799709, 0.4240944648399855, 0.5937322507759797, 0.6785511437439767, 0.0, 0.0, -0.0]\n",
            "CUB 0.0 [0.0, 0.6432675209026769, 0.5360562674188974, 0.5360562674188974, 0.10721125348377948, 0.0, 0.0, -0.0]\n",
            "DEU 0.0 [0.0, 0.16796775328675628, 0.33593550657351257, 0.8398387664337815, 0.391924757669098, 0.0, 0.0, -0.0]\n",
            "DNK 0.0 [0.0, 0.0, 0.2672612419124244, 0.5345224838248488, 0.8017837257372732, 0.0, 0.0, -0.0]\n",
            "\n",
            "The least similar countries by overall tone to the USA\n",
            "CAN 0.0 [0.0, 0.20880991222872944, 0.4027048307268354, 0.6338872335515001, 0.6264297366861883, 0.0, 0.0, -0.0]\n",
            "CHN 0.0 [0.0, 0.491726111842046, 0.3226952608963427, 0.50709255283711, 0.6300240807976214, 0.0, 0.0, -0.0]\n",
            "COL 0.0 [0.0, 0.08481889296799709, 0.4240944648399855, 0.5937322507759797, 0.6785511437439767, 0.0, 0.0, -0.0]\n",
            "CUB 0.0 [0.0, 0.6432675209026769, 0.5360562674188974, 0.5360562674188974, 0.10721125348377948, 0.0, 0.0, -0.0]\n",
            "DEU 0.0 [0.0, 0.16796775328675628, 0.33593550657351257, 0.8398387664337815, 0.391924757669098, 0.0, 0.0, -0.0]\n",
            "DNK 0.0 [0.0, 0.0, 0.2672612419124244, 0.5345224838248488, 0.8017837257372732, 0.0, 0.0, -0.0]\n"
          ],
          "name": "stdout"
        }
      ]
    },
    {
      "cell_type": "markdown",
      "metadata": {
        "id": "TRljouPHo6qb"
      },
      "source": [
        "**UNREST** (countries who show much and show little unrest) *note: we only consider internal transcripts"
      ]
    },
    {
      "cell_type": "code",
      "metadata": {
        "id": "V0xFlFvBo6IF",
        "colab": {
          "base_uri": "https://localhost:8080/",
          "height": 411
        },
        "outputId": "f1f89ded-b539-4fbc-a012-9bb4c83566f4"
      },
      "source": [
        "''' follows the same as categorizing other data'''\n",
        "dbg(raw_words)\n",
        "test = raw_words.map(lambda x: x[0][1])\n",
        "\n",
        "def safe(x):\n",
        "  try:\n",
        "    return float(x)\n",
        "  except:\n",
        "    return 0\n",
        "\n",
        "protests = raw_words.map(lambda x: ((x[0][0], safe(x[0][1])),x[1]))\n",
        "protests = protests.filter(lambda x: x[0][1] <= 0).map(lambda x: (x[0][0],make_relevance_vector_protest(x[1]))).reduceByKey(lambda a,b: np.add(a,b)).map(lambda x: (x[0],(x[1][0]/x[1][1])*100)) \n",
        "#ONLY conisder negative toned articles abount unrest. Then take Percentage of total articles per country as the metric for how much unrest.\n",
        "\n",
        "protests = protests.filter(lambda x: x[1] > 0)\n",
        "most_protests = protests.takeOrdered(40, key = lambda x: 1-x[1])\n",
        "print(\"Below are the countries and their negative article percentage for protests\")\n",
        "\n",
        "for each in most_protests:\n",
        "  if (each[0]) == 'USA':\n",
        "    usa_amount = each\n",
        "  print(f\"* {each[0]} at {round(each[1],3)}% of total articles\")\n",
        "\n",
        "print(usa_amount)\n",
        "dbg(protests)\n",
        "all_more_than_usa = protests.filter(lambda x: x[1] >= usa_amount[1]).map(lambda x: x[0]).collect()\n",
        "\n",
        "print (all_more_than_usa)\n",
        "\n"
      ],
      "execution_count": null,
      "outputs": [
        {
          "output_type": "stream",
          "text": [
            "[(('CAN', '-1.3'), ['passengers', 'statement', 'pandemic', 'cancelled', 'air', 'passenger', 'refunds', 'coronavirus', 'airlines', 'agency', 'credit', 'fight', 'online', 'cta', 'canadian']), (('CAN', '-4.4'), ['guide', 'blind', 'covid19', 'account', 'develop', 'dont', 'rely', 'cnib', 'need', 'distancing', 'guides', 'shopping', 'nemeth', 'measures', 'sighted']), (('CAN', '-1.3'), ['passengers', 'statement', 'pandemic', 'cancelled', 'air', 'passenger', 'refunds', 'coronavirus', 'airlines', 'agency', 'credit', 'fight', 'online', 'cta', 'canadian']), (('CAN', '-2.9'), ['alleges', 'contract', 'union', 'issue', 'continues', 'dispute', 'city', 'meeting', 'resolution', 'residency', 'rule', 'breach', 'ontario', 'special', 'council']), (('CAN', '-10.'), ['victim', 'identify', 'clair', 'west', 'woundsthe', 'identified', 'witnesses', 'shooting', 'area', 'oakwood', 'man', 'st', None, None, None]), (('CAN', '-4.9'), ['street', 'emergency', 'free', 'closing', 'closes', 'pedestrians', 'city', 'cyclists', 'leiper', 'traffic', 'routes', 'space', 'ottawa', 'ward', 'westboro']), (('CAN', '-6.2'), ['advise', '6the', 'loyal', 'regulators', 'measures', 'magistrate', 'submit', 'evidence', 'shortselling', 'markets', 'arbitrary', 'chief', 'subject', 'truly', 'driving']), (('CAN', '-4.3'), ['return', 'sea', 'covid19', 'shawinigan', 'coronavirus', 'vessels', 'returning', 'bay', 'forces', 'glace', 'halifax', 'canadian', 'hmcs', 'navy', 'health']), (('CAN', '-8.4'), ['coughing', 'person', 'face', 'officer', 'canadians', 'pandemic', 'charges', 'officers', 'allegedly', 'incidents', 'serious', 'man', 'coughed', 'store', 'alleged']), (('CAN', '-4.4'), ['guide', 'blind', 'covid19', 'account', 'develop', 'dont', 'rely', 'cnib', 'need', 'distancing', 'guides', 'shopping', 'nemeth', 'measures', 'sighted']), (('CAN', '-2.2'), ['start', 'praised', 'covid19', 'canada', 'testing', 'targeted', 'bcs', 'jenne', 'tested', 'test', 'healthcare', 'quick', 'tests', 'bc', 'approach']), (('CAN', '-1.8'), ['clients', 'panel', '2020', 'forms', 'hearing', 'account', 'approves', 'contrary', 'rule', 'agreements', 'agreement', 'mfda', 'settlement', None, None]), (('CAN', '-4.1'), ['guide', 'blind', 'covid19', 'account', 'develop', 'dont', 'rely', 'cnib', 'need', 'distancing', 'guides', 'shopping', 'nemeth', 'measures', 'sighted']), (('CAN', '-3.6'), ['really', 'important', 'preschool', 'regina', 'pandemic', 'learning', 'covid19', 'pathways', 'times', 'centre', 'trying', 'parents', 'online', 'lessons', 'speech']), (('CAN', '-4.3'), ['return', 'sea', 'covid19', 'shawinigan', 'coronavirus', 'vessels', 'returning', 'bay', 'forces', 'glace', 'halifax', 'canadian', 'hmcs', 'navy', 'health']), (('CAN', '-1.3'), ['passengers', 'statement', 'pandemic', 'cancelled', 'air', 'passenger', 'refunds', 'coronavirus', 'airlines', 'agency', 'credit', 'fight', 'online', 'cta', 'canadian']), (('CAN', '-0.9'), ['covid19', 'remote', 'plans', 'continues', 'coronavirus', 'facilities', 'rural', 'segregate', 'communities', 'sha', 'noncovid', 'patients', 'health', 'hospitals', 'saskatchewan']), (('CAN', '-4.3'), ['return', 'sea', 'covid19', 'shawinigan', 'coronavirus', 'vessels', 'returning', 'bay', 'forces', 'glace', 'halifax', 'canadian', 'hmcs', 'navy', 'health']), (('CAN', '0.24'), ['doordash', 'program', 'company', 'million', 'cut', 'local', '50', 'commission', 'restaurants', 'pay', 'reduced', 'restaurant', 'end', 'commissions', 'partners']), (('CAN', '0.24'), ['doordash', 'program', 'company', 'million', 'cut', 'local', '50', 'commission', 'restaurants', 'pay', 'reduced', 'restaurant', 'end', 'commissions', 'partners']), (('CAN', '0.24'), ['doordash', 'program', 'company', 'million', 'cut', 'local', '50', 'commission', 'restaurants', 'pay', 'reduced', 'restaurant', 'end', 'commissions', 'partners']), (('CAN', '-2.9'), ['alleges', 'contract', 'union', 'issue', 'continues', 'dispute', 'city', 'meeting', 'resolution', 'residency', 'rule', 'breach', 'ontario', 'special', 'council']), (('CAN', '0.24'), ['doordash', 'program', 'company', 'million', 'cut', 'local', '50', 'commission', 'restaurants', 'pay', 'reduced', 'restaurant', 'end', 'commissions', 'partners']), (('CAN', '0.24'), ['doordash', 'program', 'company', 'million', 'cut', 'local', '50', 'commission', 'restaurants', 'pay', 'reduced', 'restaurant', 'end', 'commissions', 'partners']), (('CAN', '0.24'), ['doordash', 'program', 'company', 'million', 'cut', 'local', '50', 'commission', 'restaurants', 'pay', 'reduced', 'restaurant', 'end', 'commissions', 'partners']), (('CAN', '0.24'), ['doordash', 'program', 'company', 'million', 'cut', 'local', '50', 'commission', 'restaurants', 'pay', 'reduced', 'restaurant', 'end', 'commissions', 'partners']), (('CAN', '0.24'), ['doordash', 'program', 'company', 'million', 'cut', 'local', '50', 'commission', 'restaurants', 'pay', 'reduced', 'restaurant', 'end', 'commissions', 'partners']), (('CAN', '0.24'), ['doordash', 'program', 'company', 'million', 'cut', 'local', '50', 'commission', 'restaurants', 'pay', 'reduced', 'restaurant', 'end', 'commissions', 'partners']), (('CAN', '0.24'), ['doordash', 'program', 'company', 'million', 'cut', 'local', '50', 'commission', 'restaurants', 'pay', 'reduced', 'restaurant', 'end', 'commissions', 'partners']), (('CAN', '0.24'), ['doordash', 'program', 'company', 'million', 'cut', 'local', '50', 'commission', 'restaurants', 'pay', 'reduced', 'restaurant', 'end', 'commissions', 'partners']), (('CAN', '0.24'), ['doordash', 'program', 'company', 'million', 'cut', 'local', '50', 'commission', 'restaurants', 'pay', 'reduced', 'restaurant', 'end', 'commissions', 'partners']), (('CAN', '-0.9'), ['covid19', 'remote', 'plans', 'continues', 'coronavirus', 'facilities', 'rural', 'segregate', 'communities', 'sha', 'noncovid', 'patients', 'health', 'hospitals', 'saskatchewan']), (('CAN', '-1.3'), ['passengers', 'statement', 'pandemic', 'cancelled', 'air', 'passenger', 'refunds', 'coronavirus', 'airlines', 'agency', 'credit', 'fight', 'online', 'cta', 'canadian']), (('CAN', '-1.3'), ['passengers', 'statement', 'pandemic', 'cancelled', 'air', 'passenger', 'refunds', 'coronavirus', 'airlines', 'agency', 'credit', 'fight', 'online', 'cta', 'canadian']), (('CAN', '-10.'), ['victim', 'identify', 'clair', 'west', 'woundsthe', 'identified', 'witnesses', 'shooting', 'area', 'oakwood', 'man', 'st', None, None, None]), (('CAN', '-4.9'), ['street', 'emergency', 'free', 'closing', 'closes', 'pedestrians', 'city', 'cyclists', 'leiper', 'traffic', 'routes', 'space', 'ottawa', 'ward', 'westboro']), (('CAN', '-6.2'), ['advise', '6the', 'loyal', 'regulators', 'measures', 'magistrate', 'submit', 'evidence', 'shortselling', 'markets', 'arbitrary', 'chief', 'subject', 'truly', 'driving']), (('CAN', '-4.9'), ['street', 'emergency', 'free', 'closing', 'closes', 'pedestrians', 'city', 'cyclists', 'leiper', 'traffic', 'routes', 'space', 'ottawa', 'ward', 'westboro']), (('CAN', '-4.3'), ['return', 'sea', 'covid19', 'shawinigan', 'coronavirus', 'vessels', 'returning', 'bay', 'forces', 'glace', 'halifax', 'canadian', 'hmcs', 'navy', 'health']), (('CAN', '-4.3'), ['return', 'sea', 'covid19', 'shawinigan', 'coronavirus', 'vessels', 'returning', 'bay', 'forces', 'glace', 'halifax', 'canadian', 'hmcs', 'navy', 'health']), (('CHN', '-4.6'), ['toll', 'glance', 'coronavirus', 'care', 'moved', 'lockdown', 'warned', 'intensive', 'president', 'minister', 'death', None, None, None, None]), (('CHN', '-2.4'), ['statement', 'company', 'according', 'million', 'xilinxs', 'quarter', 'executive', 'xilinx', 'chipmaker', 'slip', 'cfo', 'amid', 'names', 'sales', 'hill']), (('CHN', '-2.4'), ['statement', 'company', 'according', 'million', 'xilinxs', 'quarter', 'executive', 'xilinx', 'chipmaker', 'slip', 'cfo', 'amid', 'names', 'sales', 'hill']), (('CHN', '-3.0'), ['wuhan', 'woman', 'breakfast', 'types', 'lockdownfree', 'orders', 'months', 'zao', 'order', 'ordered', 'restaurant', 'food', 'day', 'lifted', '76']), (('COL', '0.61'), ['france', 'tour', 'coronavirus', 'rider', 'crisis', 'bernal', 'auctioning', 'bike', 'charity', 'jerseys', 'amid', 'auctions', 'champion', None, None]), (('COL', '0.61'), ['france', 'tour', 'coronavirus', 'rider', 'crisis', 'bernal', 'auctioning', 'bike', 'charity', 'jerseys', 'amid', 'auctions', 'champion', None, None]), (('CUB', '-3.0'), ['forward', 'containment', 'covid19', 'virus', 'coronavirus', 'spread', 'world', 'present', 'china', 'way', 'help', 'sri', 'impact', 'lanka', None]), (('DEU', '1.18'), ['chevrolet', '2020', 'chevy', '60', 'z51', 'mph', 'performance', 'seconds', 'hit', 'corvette', '27', 'video', 'watch', 'tires', None]), (('DNK', '-4.9'), ['cases', 'deaths', 'ventilator', 'treated', 'needed', 'covid19', 'program', 'mile', 'coronavirus', 'nuuk', 'outside', 'population', 'lives', 'greenland', 'known']), (('DNK', '-4.9'), ['cases', 'deaths', 'ventilator', 'treated', 'needed', 'covid19', 'program', 'mile', 'coronavirus', 'nuuk', 'outside', 'population', 'lives', 'greenland', 'known']), (('EGY', '3.08'), ['tahiti', 'asher', 'technology', 'million', 'birthday', 'coding', 'world', 'ultimately', 'skydiver', 'young', '20th', 'travel', 'swimming', 'hobbyist', 'lucas']), (('EGY', '-1.1'), ['mass', 'pope', 'square', 'francis', 'social', 'coronavirus', 'vatican', 'easter', 'week', 'vaticans', 'st', 'outbreak', 'virtual', 'italy', 'battles']), (('EGY', '-1.1'), ['mass', 'pope', 'square', 'francis', 'social', 'coronavirus', 'vatican', 'easter', 'week', 'vaticans', 'st', 'outbreak', 'virtual', 'italy', 'battles']), (('EGY', '-1.1'), ['mass', 'pope', 'square', 'francis', 'social', 'coronavirus', 'vatican', 'easter', 'week', 'vaticans', 'st', 'outbreak', 'virtual', 'italy', 'battles']), (('ESP', '-1.6'), ['sina', 'covid19', 'university', 'protecting', 'ibn', 'spread', 'modern', 'world', 'legacy', 'medical', 'centuries', 'sinas', 'quarantine', None, None]), (('ESP', '-1.6'), ['sina', 'covid19', 'university', 'protecting', 'ibn', 'spread', 'modern', 'world', 'legacy', 'medical', 'centuries', 'sinas', 'quarantine', None, None]), (('FJI', '-1.8'), ['los', 'fiji', 'covid19', 'recovery', 'international', 'flights', 'airways', 'la', 'wish', 'nadi', 'picture', 'way', 'evacuation', None, None]), (('FJI', '-1.8'), ['los', 'fiji', 'covid19', 'recovery', 'international', 'flights', 'airways', 'la', 'wish', 'nadi', 'picture', 'way', 'evacuation', None, None]), (('FJI', '-1.8'), ['los', 'fiji', 'covid19', 'recovery', 'international', 'flights', 'airways', 'la', 'wish', 'nadi', 'picture', 'way', 'evacuation', None, None]), (('FRA', '0.11'), ['pioneering', 'lyon', '95', 'lesbian', 'marriage', 'activist', 'martin', 'gay', 'phyllis', 'dies', 'rights', 'couple', 'san', 'francisco', 'told']), (('FRA', '0.11'), ['pioneering', 'lyon', '95', 'lesbian', 'marriage', 'activist', 'martin', 'gay', 'phyllis', 'dies', 'rights', 'couple', 'san', 'francisco', 'told']), (('FRA', '0.11'), ['pioneering', 'lyon', '95', 'lesbian', 'marriage', 'activist', 'martin', 'gay', 'phyllis', 'dies', 'rights', 'couple', 'san', 'francisco', 'told']), (('FRA', '1.92'), ['district', 'center', 'covid19', 'hospital', 'pontotoc', 'testing', 'oklahoma', 'dont', 'prepares', 'possible', 'patients', 'farrell', 'county', 'surge', 'sees']), (('FRA', '-5.9'), ['requests', 'secured', 'pritzker', 'prisoners', 'pandemic', 'robberies', 'prison', 'soble', 'quietly', 'including', 'powells', 'sentenced', 'release', 'released', 'seeking']), (('FRA', '-5.9'), ['requests', 'secured', 'pritzker', 'prisoners', 'pandemic', 'robberies', 'prison', 'soble', 'quietly', 'including', 'powells', 'sentenced', 'release', 'released', 'seeking']), (('FRA', '-3.3'), ['hes', 'donald', 'come', 'reopen', 'gonna', 'knows', 'attacks', 'trump', 'ruling', 'mr', 'president', 'economy', 'matter', 'elected', 'class']), (('FRA', '-2.8'), ['masks', 'blocks', 'mayors', 'residents', 'mayor', 'public', 'outside', 'ordered', 'french', 'wear', 'shortages', 'order', 'spinosi', 'mask', 'court']), (('FRA', '-2.8'), ['masks', 'blocks', 'mayors', 'residents', 'mayor', 'public', 'outside', 'ordered', 'french', 'wear', 'shortages', 'order', 'spinosi', 'mask', 'court']), (('FRA', '-2.8'), ['masks', 'blocks', 'mayors', 'residents', 'mayor', 'public', 'outside', 'ordered', 'french', 'wear', 'shortages', 'order', 'spinosi', 'mask', 'court']), (('FRA', '-2.8'), ['masks', 'blocks', 'mayors', 'residents', 'mayor', 'public', 'outside', 'ordered', 'french', 'wear', 'shortages', 'order', 'spinosi', 'mask', 'court']), (('FRA', '-2.8'), ['masks', 'blocks', 'mayors', 'residents', 'mayor', 'public', 'outside', 'ordered', 'french', 'wear', 'shortages', 'order', 'spinosi', 'mask', 'court']), (('FRA', '-1.9'), ['stimulus', 'debt', 'virus', 'fallout', 'member', 'european', 'billion', 'ministers', 'ease', 'fund', 'euro', 'eu', 'agrees', '500b', 'plan']), (('FRA', '-2.8'), ['masks', 'blocks', 'mayors', 'residents', 'mayor', 'public', 'outside', 'ordered', 'french', 'wear', 'shortages', 'order', 'spinosi', 'mask', 'court']), (('FRA', '-2.8'), ['masks', 'blocks', 'mayors', 'residents', 'mayor', 'public', 'outside', 'ordered', 'french', 'wear', 'shortages', 'order', 'spinosi', 'mask', 'court']), (('FRA', '1.92'), ['district', 'center', 'covid19', 'hospital', 'pontotoc', 'testing', 'oklahoma', 'dont', 'prepares', 'possible', 'patients', 'farrell', 'county', 'surge', 'sees']), (('FRA', '1.92'), ['district', 'center', 'covid19', 'hospital', 'pontotoc', 'testing', 'oklahoma', 'dont', 'prepares', 'possible', 'patients', 'farrell', 'county', 'surge', 'sees']), (('FRA', '0.11'), ['pioneering', 'lyon', '95', 'lesbian', 'marriage', 'activist', 'martin', 'gay', 'phyllis', 'dies', 'rights', 'couple', 'san', 'francisco', 'told']), (('FRA', '1.92'), ['district', 'center', 'covid19', 'hospital', 'pontotoc', 'testing', 'oklahoma', 'dont', 'prepares', 'possible', 'patients', 'farrell', 'county', 'surge', 'sees']), (('FRA', '-5.9'), ['requests', 'secured', 'pritzker', 'prisoners', 'pandemic', 'robberies', 'prison', 'soble', 'quietly', 'including', 'powells', 'sentenced', 'release', 'released', 'seeking']), (('FRA', '0.11'), ['pioneering', 'lyon', '95', 'lesbian', 'marriage', 'activist', 'martin', 'gay', 'phyllis', 'dies', 'rights', 'couple', 'san', 'francisco', 'told']), (('FRA', '0.11'), ['pioneering', 'lyon', '95', 'lesbian', 'marriage', 'activist', 'martin', 'gay', 'phyllis', 'dies', 'rights', 'couple', 'san', 'francisco', 'told']), (('FRA', '0.11'), ['pioneering', 'lyon', '95', 'lesbian', 'marriage', 'activist', 'martin', 'gay', 'phyllis', 'dies', 'rights', 'couple', 'san', 'francisco', 'told']), (('FRA', '0.11'), ['pioneering', 'lyon', '95', 'lesbian', 'marriage', 'activist', 'martin', 'gay', 'phyllis', 'dies', 'rights', 'couple', 'san', 'francisco', 'told']), (('FRA', '-2.8'), ['masks', 'blocks', 'mayors', 'residents', 'mayor', 'public', 'outside', 'ordered', 'french', 'wear', 'shortages', 'order', 'spinosi', 'mask', 'court']), (('FRA', '-1.9'), ['stimulus', 'debt', 'virus', 'fallout', 'member', 'european', 'billion', 'ministers', 'ease', 'fund', 'euro', 'eu', 'agrees', '500b', 'plan']), (('FRA', '-2.8'), ['masks', 'blocks', 'mayors', 'residents', 'mayor', 'public', 'outside', 'ordered', 'french', 'wear', 'shortages', 'order', 'spinosi', 'mask', 'court']), (('FRA', '-2.8'), ['masks', 'blocks', 'mayors', 'residents', 'mayor', 'public', 'outside', 'ordered', 'french', 'wear', 'shortages', 'order', 'spinosi', 'mask', 'court']), (('GBR', '-0.9'), ['unsung', 'customers', 'service', 'working', 'drink', 'stores', 'retailers', 'heroes', 'wholesalers', 'industry', 'business', 'weve', 'convenience', 'retail', 'store']), (('GBR', '-2.3'), ['article', 'kxl', 'syndicated', None, None, None, None, None, None, None, None, None, None, None, None]), (('GBR', '-0.6'), ['treated', 'chickens', 'roman', 'hares', 'britain', 'brown', 'arrived', 'eaten', 'period', 'rabbits', 'originally', 'food', 'century', 'introduced', 'gods']), (('GBR', '-0.9'), ['unsung', 'customers', 'service', 'working', 'drink', 'stores', 'retailers', 'heroes', 'wholesalers', 'industry', 'business', 'weve', 'convenience', 'retail', 'store']), (('GBR', '2.08'), ['ed', 'night', 'solo', 'wrote', 'cloak', 'radioheads', 'shares', 'debut', 'album', 'features', 'track', 'willesden', 'earth', 'studio', 'song']), (('GBR', '-0.9'), ['unsung', 'customers', 'service', 'working', 'drink', 'stores', 'retailers', 'heroes', 'wholesalers', 'industry', 'business', 'weve', 'convenience', 'retail', 'store']), (('GBR', '-0.9'), ['unsung', 'customers', 'service', 'working', 'drink', 'stores', 'retailers', 'heroes', 'wholesalers', 'industry', 'business', 'weve', 'convenience', 'retail', 'store']), (('GBR', '0.54'), ['risks', 'acquires', 'congress', 'mineral', 'bralorne', 'gold', 'information', 'company', 'property', 'forwardlooking', 'talisker', 'extending', 'exploration', 'project', None]), (('GBR', '-3.4'), ['family', 'son', 'loss', 'brother', 'coronavirus', 'pearsoncubus', 'lake', 'northwestern', 'started', 'mourns', 'going', 'died', 'pearson', 'father', 'marine']), (('GBR', '1.21'), ['step', 'produce', 'production', 'supply', 'design', 'covid19', 'firms', 'effort', 'uk', 'ventilators', 'babcock', 'nhs', 'scots', 'help', 'raytheon']), (('GBR', '2.45'), ['set', 'strathclyde', 'university', 'protocol', 'emission', 'united', 'low', 'succeeding', 'study', 'emissions', 'despite', 'prices', 'scheme', 'reduce', 'carbon']), (('GHA', '-0.6'), ['mitigate', 'covid19', 'lotto', 'statement', '890', 'public', 'short', 'code', 'staking', 'sale', 'activates', 'shortfall', 'nla', 'digital', 'sales']), (('GRC', '-2.5'), ['cases', 'covid19', 'hospital', 'staff', 'settlers', 'strict', 'services', 'clinic', 'prepare', 'patients', 'nqenqa', 'makana', 'health', None, None])]\n",
            "Below are the countries and their negative article percentage for protests\n",
            "* VAT at 25.0% of total articles\n",
            "* KOR at 14.286% of total articles\n",
            "* COL at 14.286% of total articles\n",
            "* TTO at 12.5% of total articles\n",
            "* VNM at 12.0% of total articles\n",
            "* JOR at 10.0% of total articles\n",
            "* ITA at 7.576% of total articles\n",
            "* JPN at 6.25% of total articles\n",
            "* NZL at 5.882% of total articles\n",
            "* DEU at 4.878% of total articles\n",
            "* CHN at 3.333% of total articles\n",
            "* CAN at 3.0% of total articles\n",
            "* IND at 2.632% of total articles\n",
            "* RUS at 2.0% of total articles\n",
            "* GBR at 1.878% of total articles\n",
            "* USA at 1.63% of total articles\n",
            "* FRA at 1.163% of total articles\n",
            "('USA', 1.6295025728987993)\n",
            "[('CAN', 3.0), ('CHN', 3.3333333333333335), ('FRA', 1.1627906976744187), ('GBR', 1.8779342723004695), ('IND', 2.631578947368421), ('ITA', 7.575757575757576), ('JOR', 10.0), ('USA', 1.6295025728987993), ('NZL', 5.88235294117647), ('TTO', 12.5), ('VAT', 25.0), ('JPN', 6.25), ('KOR', 14.285714285714285), ('RUS', 2.0), ('VNM', 12.0), ('DEU', 4.878048780487805), ('COL', 14.285714285714285)]\n",
            "['CAN', 'CHN', 'GBR', 'IND', 'ITA', 'JOR', 'USA', 'NZL', 'TTO', 'VAT', 'JPN', 'KOR', 'RUS', 'VNM', 'DEU', 'COL']\n"
          ],
          "name": "stdout"
        }
      ]
    },
    {
      "cell_type": "markdown",
      "metadata": {
        "id": "ON9BtOdAIfyz"
      },
      "source": [
        "# Clustering"
      ]
    },
    {
      "cell_type": "code",
      "metadata": {
        "id": "foRyDB-df239",
        "colab": {
          "base_uri": "https://localhost:8080/",
          "height": 1000
        },
        "outputId": "cc32c830-6ad4-4749-dbaf-4b20ccab1a79"
      },
      "source": [
        "from pyspark.ml.feature import VectorAssembler\n",
        "from pyspark.ml.clustering import KMeans\n",
        "from pyspark.ml.feature import VectorAssembler\n",
        "\n",
        "\n",
        "\n",
        "def flatten(x):\n",
        "  return [x[0]] + x[1]\n",
        "\n",
        "flat_map = adjustedarray.map(lambda x: flatten(x))\n",
        "\n",
        "\n",
        "headers = [str(i) for i in range(8)]\n",
        "print(headers)\n",
        "\n",
        "df = sqlContext.createDataFrame(flat_map,['COUNTRY'] +  headers)\n",
        "df.show()\n",
        "vecAssembler = VectorAssembler(inputCols=headers, outputCol=\"features\")\n",
        "new_df = vecAssembler.transform(df)\n",
        "\n",
        "kmeans = KMeans(k=10, seed = 5) # ten clusters is sufficient for data. Expect 144 ^ 2 - 144\n",
        "model = kmeans.fit(new_df.select('features'))\n",
        "\n",
        "transformed = model.transform(new_df)\n",
        "transformed.show()   \n",
        "\n",
        "\n",
        "\n",
        "a = transformed.select('COUNTRY','prediction')\n",
        "clusters = a.rdd.map(lambda x: list(x)).map(lambda x: (x[1],x[0])).groupByKey().collect()\n",
        " \n",
        "\n",
        "usa_cluster = transformed.select('prediction').where(\"COUNTRY = 'USA'\").rdd.map(lambda x: list(x)).map(lambda x: x).collect()[0]\n",
        "\n",
        "print(usa_cluster)\n",
        "all_usa_cluster = None\n",
        "for each in clusters:\n",
        "  if each[0] == usa_cluster[0]:\n",
        "    all_usa_cluster = (list(each[1]))\n",
        "    \n",
        "  print(f\"* Cluster: {each[0]} are {list(each[1])}\")\n",
        "\n",
        "print(all_usa_cluster)\n",
        "\n"
      ],
      "execution_count": null,
      "outputs": [
        {
          "output_type": "stream",
          "text": [
            "['0', '1', '2', '3', '4', '5', '6', '7']\n",
            "+-------+---+-------------------+-------------------+-------------------+-------------------+---+---+----+\n",
            "|COUNTRY|  0|                  1|                  2|                  3|                  4|  5|  6|   7|\n",
            "+-------+---+-------------------+-------------------+-------------------+-------------------+---+---+----+\n",
            "|    CAN|0.0|0.20880991222872944| 0.4027048307268354| 0.6338872335515001| 0.6264297366861883|0.0|0.0|-0.0|\n",
            "|    CHN|0.0|  0.491726111842046| 0.3226952608963427|   0.50709255283711| 0.6300240807976214|0.0|0.0|-0.0|\n",
            "|    COL|0.0|0.08481889296799709| 0.4240944648399855| 0.5937322507759797| 0.6785511437439767|0.0|0.0|-0.0|\n",
            "|    CUB|0.0| 0.6432675209026769| 0.5360562674188974| 0.5360562674188974|0.10721125348377948|0.0|0.0|-0.0|\n",
            "|    DEU|0.0|0.16796775328675628|0.33593550657351257| 0.8398387664337815|  0.391924757669098|0.0|0.0|-0.0|\n",
            "|    DNK|0.0|                0.0| 0.2672612419124244| 0.5345224838248488| 0.8017837257372732|0.0|0.0|-0.0|\n",
            "|    EGY|0.0|                0.0| 0.4195906791483445| 0.7552632224670202| 0.5035088149780135|0.0|0.0|-0.0|\n",
            "|    ESP|0.0|  0.211999576001272|0.17666631333439334| 0.7773317786713307| 0.5653322026700587|0.0|0.0|-0.0|\n",
            "|    FJI|0.0|                0.0|                0.0|                0.0|                1.0|0.0|0.0|-0.0|\n",
            "|    FRA|0.0|0.21399624418051005|0.17323505481279386| 0.8967461660897564| 0.3464701096255877|0.0|0.0|-0.0|\n",
            "|    GBR|0.0|0.11583858534085675|0.27435454422834493|0.49383817961102094| 0.8169668650355161|0.0|0.0|-0.0|\n",
            "|    GHA|0.0|                0.0|                0.0| 0.8064049958557055| 0.5913636636275174|0.0|0.0|-0.0|\n",
            "|    GRC|0.0|0.18257418583505536| 0.3651483716701107| 0.7302967433402214| 0.5477225575051661|0.0|0.0|-0.0|\n",
            "|    EUR|0.0|0.24639046870595455|0.45171585929424996|0.24639046870595455| 0.8213015623531817|0.0|0.0|-0.0|\n",
            "|    IND|0.0|0.21170244960998524|0.21170244960998524| 0.8997354108424372|0.31755367441497784|0.0|0.0|-0.0|\n",
            "|    IRN|0.0|                0.0|  0.894427190999916|  0.447213595499958|                0.0|0.0|0.0|-0.0|\n",
            "|    IRQ|0.0|                0.0| 0.8320502943378437| 0.5547001962252291|                0.0|0.0|0.0|-0.0|\n",
            "|    ISL|0.0|                0.0|                0.0|                0.0|                1.0|0.0|0.0| 0.0|\n",
            "|    ISR|0.0|0.41983210073284694| 0.5397841295136604| 0.7197121726848805|0.11995202878081342|0.0|0.0|-0.0|\n",
            "|    ITA|0.0|0.08114408259335794| 0.6897247020435425| 0.5477225575051661|0.46657847491180815|0.0|0.0|-0.0|\n",
            "+-------+---+-------------------+-------------------+-------------------+-------------------+---+---+----+\n",
            "only showing top 20 rows\n",
            "\n",
            "+-------+---+-------------------+-------------------+-------------------+-------------------+---+---+----+--------------------+----------+\n",
            "|COUNTRY|  0|                  1|                  2|                  3|                  4|  5|  6|   7|            features|prediction|\n",
            "+-------+---+-------------------+-------------------+-------------------+-------------------+---+---+----+--------------------+----------+\n",
            "|    CAN|0.0|0.20880991222872944| 0.4027048307268354| 0.6338872335515001| 0.6264297366861883|0.0|0.0|-0.0|(8,[1,2,3,4],[0.2...|         8|\n",
            "|    CHN|0.0|  0.491726111842046| 0.3226952608963427|   0.50709255283711| 0.6300240807976214|0.0|0.0|-0.0|(8,[1,2,3,4],[0.4...|         9|\n",
            "|    COL|0.0|0.08481889296799709| 0.4240944648399855| 0.5937322507759797| 0.6785511437439767|0.0|0.0|-0.0|(8,[1,2,3,4],[0.0...|         8|\n",
            "|    CUB|0.0| 0.6432675209026769| 0.5360562674188974| 0.5360562674188974|0.10721125348377948|0.0|0.0|-0.0|(8,[1,2,3,4],[0.6...|         7|\n",
            "|    DEU|0.0|0.16796775328675628|0.33593550657351257| 0.8398387664337815|  0.391924757669098|0.0|0.0|-0.0|(8,[1,2,3,4],[0.1...|         8|\n",
            "|    DNK|0.0|                0.0| 0.2672612419124244| 0.5345224838248488| 0.8017837257372732|0.0|0.0|-0.0|(8,[2,3,4],[0.267...|         8|\n",
            "|    EGY|0.0|                0.0| 0.4195906791483445| 0.7552632224670202| 0.5035088149780135|0.0|0.0|-0.0|(8,[2,3,4],[0.419...|         8|\n",
            "|    ESP|0.0|  0.211999576001272|0.17666631333439334| 0.7773317786713307| 0.5653322026700587|0.0|0.0|-0.0|(8,[1,2,3,4],[0.2...|         8|\n",
            "|    FJI|0.0|                0.0|                0.0|                0.0|                1.0|0.0|0.0|-0.0|       (8,[4],[1.0])|         1|\n",
            "|    FRA|0.0|0.21399624418051005|0.17323505481279386| 0.8967461660897564| 0.3464701096255877|0.0|0.0|-0.0|(8,[1,2,3,4],[0.2...|         2|\n",
            "|    GBR|0.0|0.11583858534085675|0.27435454422834493|0.49383817961102094| 0.8169668650355161|0.0|0.0|-0.0|(8,[1,2,3,4],[0.1...|         9|\n",
            "|    GHA|0.0|                0.0|                0.0| 0.8064049958557055| 0.5913636636275174|0.0|0.0|-0.0|(8,[3,4],[0.80640...|         8|\n",
            "|    GRC|0.0|0.18257418583505536| 0.3651483716701107| 0.7302967433402214| 0.5477225575051661|0.0|0.0|-0.0|(8,[1,2,3,4],[0.1...|         8|\n",
            "|    EUR|0.0|0.24639046870595455|0.45171585929424996|0.24639046870595455| 0.8213015623531817|0.0|0.0|-0.0|(8,[1,2,3,4],[0.2...|         6|\n",
            "|    IND|0.0|0.21170244960998524|0.21170244960998524| 0.8997354108424372|0.31755367441497784|0.0|0.0|-0.0|(8,[1,2,3,4],[0.2...|         2|\n",
            "|    IRN|0.0|                0.0|  0.894427190999916|  0.447213595499958|                0.0|0.0|0.0|-0.0|(8,[2,3],[0.89442...|         4|\n",
            "|    IRQ|0.0|                0.0| 0.8320502943378437| 0.5547001962252291|                0.0|0.0|0.0|-0.0|(8,[2,3],[0.83205...|         4|\n",
            "|    ISL|0.0|                0.0|                0.0|                0.0|                1.0|0.0|0.0| 0.0|       (8,[4],[1.0])|         1|\n",
            "|    ISR|0.0|0.41983210073284694| 0.5397841295136604| 0.7197121726848805|0.11995202878081342|0.0|0.0|-0.0|(8,[1,2,3,4],[0.4...|         4|\n",
            "|    ITA|0.0|0.08114408259335794| 0.6897247020435425| 0.5477225575051661|0.46657847491180815|0.0|0.0|-0.0|(8,[1,2,3,4],[0.0...|         4|\n",
            "+-------+---+-------------------+-------------------+-------------------+-------------------+---+---+----+--------------------+----------+\n",
            "only showing top 20 rows\n",
            "\n",
            "[8]\n",
            "* Cluster: 8 are ['CAN', 'COL', 'DEU', 'DNK', 'EGY', 'ESP', 'GHA', 'GRC', 'JAM', 'MEX', 'USA', 'JPN', 'KOR', 'THA', 'AUS', 'PHL', 'IRL', 'LTU', 'HRV']\n",
            "* Cluster: 9 are ['CHN', 'GBR', 'NZL', 'PAK', 'NOR', 'SGP', 'TCD', 'AFG', 'VEN', 'VNM', 'BEL', 'ETH', 'SLV']\n",
            "* Cluster: 7 are ['CUB', 'PSE', 'TUR', 'COD', 'FIN']\n",
            "* Cluster: 1 are ['FJI', 'ISL', 'LKA', 'MAR', 'BRA', 'RUS', 'SAU', 'MYS', 'CHE', 'DZA', 'BLZ', 'HTI', 'IDN', 'MHL', 'SWE', 'CIV', 'CRI', 'LBY', 'SLB', 'ATG', 'AZE']\n",
            "* Cluster: 2 are ['FRA', 'IND', 'LBR', 'MDV', 'QAT', 'KEN', 'MMR', 'NLD', 'PRK', 'UKR', 'AUT', 'BWA', 'PRT', 'TUN', 'CYP', 'VCT', 'KWT', 'SDN', 'DOM']\n",
            "* Cluster: 6 are ['EUR', 'HND', 'KAZ', 'PAN', 'SAS', 'AFR', 'POL', 'HUN', 'BGR', 'CHL', 'CAS', 'KGZ', 'TWN']\n",
            "* Cluster: 4 are ['IRN', 'IRQ', 'ISR', 'ITA', 'JOR', 'NGA', 'VAT', 'YEM', 'NMR', 'MWI', 'PER']\n",
            "* Cluster: 3 are ['RWA', 'SYR', 'TZA', 'NRU', 'ZMB', 'LBN', 'ARG', 'ECU', 'GRD']\n",
            "* Cluster: 5 are ['SEA', 'SEN', 'MLI', 'ZAF', 'WSM', 'CZE', 'GUY', 'SVK', 'KIR', 'TKM', 'NIC', 'DJI', 'KHM', 'BHS', 'BOL', 'LAO', 'NPL', 'KNA', 'VUT', 'ARM', 'MNG', 'SOM', 'MCO', 'CYM', 'SSD', 'UGA', 'MOZ', 'all']\n",
            "* Cluster: 0 are ['TTO', 'ZWE', 'ARE', 'BGD', 'EST', 'BDI']\n",
            "['CAN', 'COL', 'DEU', 'DNK', 'EGY', 'ESP', 'GHA', 'GRC', 'JAM', 'MEX', 'USA', 'JPN', 'KOR', 'THA', 'AUS', 'PHL', 'IRL', 'LTU', 'HRV']\n"
          ],
          "name": "stdout"
        }
      ]
    },
    {
      "cell_type": "markdown",
      "metadata": {
        "id": "v-nUHe781gU6"
      },
      "source": [
        "**RECCOMMENDATION**"
      ]
    },
    {
      "cell_type": "code",
      "metadata": {
        "id": "XinRm3e8vNwY",
        "colab": {
          "base_uri": "https://localhost:8080/",
          "height": 1000
        },
        "outputId": "adcca2fa-d15c-4e54-87ef-d0856e3f0965"
      },
      "source": [
        "worse_than_us = ['CAN', 'CHN', 'GBR', 'IND', 'ITA', 'JOR', 'USA', 'NZL', 'TTO', 'VAT', 'JPN', 'KOR', 'RUS', 'VNM', 'DEU', 'COL']\n",
        "reccommendation = adjustedarray.filter(lambda x: x[0] not in worse_than_us).filter(lambda x: x[0] not in all_more_than_usa).filter(lambda x: x[0]  in all_usa_cluster).sortBy(lambda x: cos_similarity(np.array(x[1]),USA_VEC)).collect()\n",
        "\n",
        "print(\"Reccommend that the US aligns itself with these countries: Specifically such that the protest is removed:\")\n",
        "\n",
        "\n",
        "for i in range(0, len(reccommendation)):\n",
        "  cand = reccommendation[i]\n",
        "  print (cand[0] + \":\")\n",
        "  print([(j,round(float(k),2)) for j,k in zip(keys,cand[1])])\n",
        "  print([(j,round(float(k),2)) for j,k in zip(keys,USA_VEC[1])])\n",
        "  difference = [abs(USA_VEC[i] - cand[1][i]) for i in range(len(cand[1]))]\n",
        "  print(\"DIFFERENCE NEEDED\")\n",
        "  print([(j,round(float(k),2)) for j,k in zip(keys,difference)])\n",
        "\n",
        "\n",
        "\n",
        "\n",
        "\n"
      ],
      "execution_count": null,
      "outputs": [
        {
          "output_type": "stream",
          "text": [
            "Reccommend that the US aligns itself with these countries: Specifically such that the protest is removed:\n",
            "LTU:\n",
            "[('healthcare', 0.0), ('laws', 0.0), ('politics', 0.0), ('police', 0.71), ('economy', 0.71), ('education', 0.0), ('international_relations', 0.0), ('general_public_interest', -0.0)]\n",
            "[('healthcare', 0.0), ('laws', 0.0), ('politics', 0.0), ('police', 0.71), ('economy', 0.71), ('education', 0.0), ('international_relations', 0.0), ('general_public_interest', -0.0)]\n",
            "DIFFERENCE NEEDED\n",
            "[('healthcare', 0.0), ('laws', 0.25), ('politics', 0.39), ('police', 0.03), ('economy', 0.14), ('education', 0.0), ('international_relations', 0.0), ('general_public_interest', 0.0)]\n",
            "GHA:\n",
            "[('healthcare', 0.0), ('laws', 0.0), ('politics', 0.0), ('police', 0.81), ('economy', 0.59), ('education', 0.0), ('international_relations', 0.0), ('general_public_interest', -0.0)]\n",
            "[('healthcare', 0.0), ('laws', 0.0), ('politics', 0.0), ('police', 0.81), ('economy', 0.59), ('education', 0.0), ('international_relations', 0.0), ('general_public_interest', -0.0)]\n",
            "DIFFERENCE NEEDED\n",
            "[('healthcare', 0.0), ('laws', 0.25), ('politics', 0.39), ('police', 0.13), ('economy', 0.02), ('education', 0.0), ('international_relations', 0.0), ('general_public_interest', 0.0)]\n",
            "JAM:\n",
            "[('healthcare', 0.0), ('laws', 0.0), ('politics', 0.0), ('police', 0.75), ('economy', 0.66), ('education', 0.0), ('international_relations', 0.0), ('general_public_interest', -0.0)]\n",
            "[('healthcare', 0.0), ('laws', 0.0), ('politics', 0.0), ('police', 0.75), ('economy', 0.66), ('education', 0.0), ('international_relations', 0.0), ('general_public_interest', -0.0)]\n",
            "DIFFERENCE NEEDED\n",
            "[('healthcare', 0.0), ('laws', 0.25), ('politics', 0.39), ('police', 0.07), ('economy', 0.09), ('education', 0.0), ('international_relations', 0.0), ('general_public_interest', 0.0)]\n",
            "DNK:\n",
            "[('healthcare', 0.0), ('laws', 0.0), ('politics', 0.27), ('police', 0.53), ('economy', 0.8), ('education', 0.0), ('international_relations', 0.0), ('general_public_interest', -0.0)]\n",
            "[('healthcare', 0.0), ('laws', 0.0), ('politics', 0.27), ('police', 0.53), ('economy', 0.8), ('education', 0.0), ('international_relations', 0.0), ('general_public_interest', -0.0)]\n",
            "DIFFERENCE NEEDED\n",
            "[('healthcare', 0.0), ('laws', 0.25), ('politics', 0.12), ('police', 0.15), ('economy', 0.23), ('education', 0.0), ('international_relations', 0.0), ('general_public_interest', 0.0)]\n",
            "IRL:\n",
            "[('healthcare', 0.0), ('laws', 0.05), ('politics', 0.16), ('police', 0.77), ('economy', 0.61), ('education', 0.0), ('international_relations', 0.0), ('general_public_interest', -0.0)]\n",
            "[('healthcare', 0.0), ('laws', 0.05), ('politics', 0.16), ('police', 0.77), ('economy', 0.61), ('education', 0.0), ('international_relations', 0.0), ('general_public_interest', -0.0)]\n",
            "DIFFERENCE NEEDED\n",
            "[('healthcare', 0.0), ('laws', 0.2), ('politics', 0.22), ('police', 0.09), ('economy', 0.04), ('education', 0.0), ('international_relations', 0.0), ('general_public_interest', 0.0)]\n",
            "PHL:\n",
            "[('healthcare', 0.0), ('laws', 0.0), ('politics', 0.42), ('police', 0.57), ('economy', 0.71), ('education', 0.0), ('international_relations', 0.0), ('general_public_interest', -0.0)]\n",
            "[('healthcare', 0.0), ('laws', 0.0), ('politics', 0.42), ('police', 0.57), ('economy', 0.71), ('education', 0.0), ('international_relations', 0.0), ('general_public_interest', -0.0)]\n",
            "DIFFERENCE NEEDED\n",
            "[('healthcare', 0.0), ('laws', 0.25), ('politics', 0.04), ('police', 0.11), ('economy', 0.14), ('education', 0.0), ('international_relations', 0.0), ('general_public_interest', 0.0)]\n",
            "MEX:\n",
            "[('healthcare', 0.0), ('laws', 0.14), ('politics', 0.14), ('police', 0.69), ('economy', 0.69), ('education', 0.0), ('international_relations', 0.0), ('general_public_interest', -0.0)]\n",
            "[('healthcare', 0.0), ('laws', 0.14), ('politics', 0.14), ('police', 0.69), ('economy', 0.69), ('education', 0.0), ('international_relations', 0.0), ('general_public_interest', -0.0)]\n",
            "DIFFERENCE NEEDED\n",
            "[('healthcare', 0.0), ('laws', 0.11), ('politics', 0.25), ('police', 0.01), ('economy', 0.12), ('education', 0.0), ('international_relations', 0.0), ('general_public_interest', 0.0)]\n",
            "THA:\n",
            "[('healthcare', 0.0), ('laws', 0.06), ('politics', 0.45), ('police', 0.8), ('economy', 0.4), ('education', 0.0), ('international_relations', 0.0), ('general_public_interest', -0.0)]\n",
            "[('healthcare', 0.0), ('laws', 0.06), ('politics', 0.45), ('police', 0.8), ('economy', 0.4), ('education', 0.0), ('international_relations', 0.0), ('general_public_interest', -0.0)]\n",
            "DIFFERENCE NEEDED\n",
            "[('healthcare', 0.0), ('laws', 0.19), ('politics', 0.07), ('police', 0.12), ('economy', 0.17), ('education', 0.0), ('international_relations', 0.0), ('general_public_interest', 0.0)]\n",
            "EGY:\n",
            "[('healthcare', 0.0), ('laws', 0.0), ('politics', 0.42), ('police', 0.76), ('economy', 0.5), ('education', 0.0), ('international_relations', 0.0), ('general_public_interest', -0.0)]\n",
            "[('healthcare', 0.0), ('laws', 0.0), ('politics', 0.42), ('police', 0.76), ('economy', 0.5), ('education', 0.0), ('international_relations', 0.0), ('general_public_interest', -0.0)]\n",
            "DIFFERENCE NEEDED\n",
            "[('healthcare', 0.0), ('laws', 0.25), ('politics', 0.03), ('police', 0.08), ('economy', 0.07), ('education', 0.0), ('international_relations', 0.0), ('general_public_interest', 0.0)]\n",
            "ESP:\n",
            "[('healthcare', 0.0), ('laws', 0.21), ('politics', 0.18), ('police', 0.78), ('economy', 0.57), ('education', 0.0), ('international_relations', 0.0), ('general_public_interest', -0.0)]\n",
            "[('healthcare', 0.0), ('laws', 0.21), ('politics', 0.18), ('police', 0.78), ('economy', 0.57), ('education', 0.0), ('international_relations', 0.0), ('general_public_interest', -0.0)]\n",
            "DIFFERENCE NEEDED\n",
            "[('healthcare', 0.0), ('laws', 0.04), ('politics', 0.21), ('police', 0.1), ('economy', 0.01), ('education', 0.0), ('international_relations', 0.0), ('general_public_interest', 0.0)]\n",
            "HRV:\n",
            "[('healthcare', 0.0), ('laws', 0.32), ('politics', 0.32), ('police', 0.63), ('economy', 0.63), ('education', 0.0), ('international_relations', 0.0), ('general_public_interest', -0.0)]\n",
            "[('healthcare', 0.0), ('laws', 0.32), ('politics', 0.32), ('police', 0.63), ('economy', 0.63), ('education', 0.0), ('international_relations', 0.0), ('general_public_interest', -0.0)]\n",
            "DIFFERENCE NEEDED\n",
            "[('healthcare', 0.0), ('laws', 0.07), ('politics', 0.07), ('police', 0.05), ('economy', 0.06), ('education', 0.0), ('international_relations', 0.0), ('general_public_interest', 0.0)]\n",
            "GRC:\n",
            "[('healthcare', 0.0), ('laws', 0.18), ('politics', 0.37), ('police', 0.73), ('economy', 0.55), ('education', 0.0), ('international_relations', 0.0), ('general_public_interest', -0.0)]\n",
            "[('healthcare', 0.0), ('laws', 0.18), ('politics', 0.37), ('police', 0.73), ('economy', 0.55), ('education', 0.0), ('international_relations', 0.0), ('general_public_interest', -0.0)]\n",
            "DIFFERENCE NEEDED\n",
            "[('healthcare', 0.0), ('laws', 0.07), ('politics', 0.02), ('police', 0.05), ('economy', 0.02), ('education', 0.0), ('international_relations', 0.0), ('general_public_interest', 0.0)]\n",
            "AUS:\n",
            "[('healthcare', 0.0), ('laws', 0.19), ('politics', 0.44), ('police', 0.66), ('economy', 0.58), ('education', 0.0), ('international_relations', 0.0), ('general_public_interest', -0.0)]\n",
            "[('healthcare', 0.0), ('laws', 0.19), ('politics', 0.44), ('police', 0.66), ('economy', 0.58), ('education', 0.0), ('international_relations', 0.0), ('general_public_interest', -0.0)]\n",
            "DIFFERENCE NEEDED\n",
            "[('healthcare', 0.0), ('laws', 0.06), ('politics', 0.05), ('police', 0.02), ('economy', 0.01), ('education', 0.0), ('international_relations', 0.0), ('general_public_interest', 0.0)]\n"
          ],
          "name": "stdout"
        }
      ]
    },
    {
      "cell_type": "markdown",
      "metadata": {
        "id": "d-00M3uXvOiL"
      },
      "source": [
        "**RANDOM INPUT GENERATOR**\n",
        "\n",
        "This is the implementation used on google cloud for testing. It can be scaled with the two global values at the beginning. \n",
        "\n",
        "\n",
        "As the implementation is severely limited by country code, we can have n entries instead of 144 max.\n",
        "\n",
        "\n",
        "This part 'takes off' after the keywords and scraping has been done and we have our raw association vectors."
      ]
    },
    {
      "cell_type": "code",
      "metadata": {
        "id": "iOCjlUcbvh9W",
        "colab": {
          "base_uri": "https://localhost:8080/",
          "height": 368
        },
        "outputId": "9dd46827-b853-4b52-e361-d561ce6ef91a"
      },
      "source": [
        "#create: \n",
        "ENTRIES = 10000\n",
        "CLUSTERS = 3\n",
        "import random\n",
        "from pyspark.sql import SQLContext\n",
        "import numpy as np\n",
        "import math\n",
        "from pyspark.ml.feature import VectorAssembler\n",
        "from pyspark.ml.clustering import KMeans\n",
        "from pyspark.ml.feature import VectorAssembler\n",
        "sqlContext = SQLContext(sc)\n",
        "\n",
        "\n",
        "def format_row(x):\n",
        "  random_number = random.randint(0,16777215)\n",
        "  hex_number = str(hex(random_number))\n",
        "  row = [random.uniform(-1,1) for i in range(8)]\n",
        "  return (str(x),row)\n",
        "\n",
        "\n",
        "\n",
        "all_new_data = sc.parallelize([i for i in range(ENTRIES)]).map(format_row)\n",
        "\n",
        "\n",
        "#make up the USA\n",
        "\n",
        "down = all_new_data.take(1)\n",
        "psuedo_us = down[0][0]\n",
        "psuedo_vec = down[0][1]\n",
        "\n",
        "\n",
        "\n",
        "def cos_similarity(v1, v2):\n",
        "  return v1.dot(v2) / (np.linalg.norm(v1)*np.linalg.norm(v2))\n",
        "b = all_new_data.map(lambda x: (x[0],np.array(x[1])))\n",
        "c = b.map(lambda x: (x[0],cos_similarity(x[1], psuedo_vec),x[1]))\n",
        "top_similar = c.takeOrdered(6, key = lambda x: 1-x[1])\n",
        "\n",
        "\n",
        "for n in top_similar:\n",
        "  pass\n",
        "\n",
        "e = b.map(lambda x: (x[0],cos_similarity(x[1][1:-1], psuedo_vec[1:-1]),x[1]))\n",
        "top_similar_just_media = e.takeOrdered(6, key = lambda x: 1-x[1])\n",
        "\n",
        "\n",
        "for n in top_similar_just_media:\n",
        "    pass\n",
        "\n",
        "\n",
        "def simple_distance(x1,x2):\n",
        "  return abs(x1 - x2)\n",
        "d = b.map(lambda x: (x[0],simple_distance(x[1][-1], psuedo_vec[-1]),x[1]))\n",
        "top_similar_tone = d.takeOrdered(6, key = lambda x: x[1])\n",
        "\n",
        "for n in top_similar_tone:\n",
        "  pass\n",
        " \n",
        "top_similar_tone = d.takeOrdered(6, key = lambda x: 1-x[1])\n",
        "\n",
        "for n in top_similar_tone:\n",
        "  pass\n",
        "\n",
        "# we need to generate some countries with worse better unrest than the US. For the purpose here, we will take a consistent sample of the data and just use those headers.\n",
        "all_more_protest_than_us = all_new_data.takeSample(False, ENTRIES//10)\n",
        "better_us = [i[0] for i in all_more_protest_than_us]\n",
        "\n",
        "# PSUEDO. The real implementation is a simple filter, at worst O(n)\n",
        "\n",
        "#clustering\n",
        "\n",
        "def flatten(x):\n",
        "  return [x[0]] + x[1]\n",
        "\n",
        "flat_map = all_new_data.map(lambda x: flatten(x))\n",
        "\n",
        "\n",
        "headers = [str(i) for i in range(8)]\n",
        "\n",
        "\n",
        "df = sqlContext.createDataFrame(flat_map,['COUNTRY'] +  headers)\n",
        "df.show()\n",
        "vecAssembler = VectorAssembler(inputCols=headers, outputCol=\"features\")\n",
        "new_df = vecAssembler.transform(df)\n",
        "\n",
        "kmeans = KMeans(k=CLUSTERS, seed = 5) # ten clusters is sufficient for data. Expect 144 ^ 2 - 144\n",
        "model = kmeans.fit(new_df.select('features'))\n",
        "\n",
        "transformed = model.transform(new_df)\n",
        "transformed.show()   \n",
        "\n",
        "\n",
        "\n",
        "a = transformed.select('COUNTRY','prediction')\n",
        "clusters = a.rdd.map(lambda x: list(x)).map(lambda x: (x[1],x[0])).groupByKey().collect()\n",
        "\n",
        "\n",
        "usa_cluster = transformed.select('prediction').where(\"COUNTRY = \" + str(psuedo_us)).rdd.map(lambda x: list(x)).map(lambda x: x).collect()[0]\n",
        "\n",
        "print(usa_cluster)\n",
        "\n",
        "#.map(lambda x: x).collect()\n",
        "\n",
        "all_usa_cluster = None\n",
        "for each in clusters:\n",
        "  if each[0] == usa_cluster[0]:\n",
        "    all_usa_cluster = (list(each[1]))\n",
        "    \n",
        "\n",
        "\n",
        "\n",
        "\n",
        "\n",
        "# finally reccommendation:\n",
        "\n",
        "\n",
        "worse_than_us = [i for i in range(0,ENTRIES//3)]\n",
        "reccommendation = all_new_data.filter(lambda x: x[0] not in worse_than_us).filter(lambda x: x[0] not in worse_than_us).filter(lambda x: x[0]  in all_usa_cluster).sortBy(lambda x: cos_similarity(np.array(x[1]),psuedo_vec)).collect()\n",
        "keys = ['healthcare','laws','politics','police','economy','education','international_relations','general_public_interest']\n",
        "\n",
        "\n",
        "\n",
        "for i in range(0, len(reccommendation)):\n",
        "  cand = reccommendation[i]\n",
        "\n",
        "  difference = [abs(psuedo_vec[i] - cand[1][i]) for i in range(len(cand[1]))]\n",
        "\n",
        "\n",
        "\n",
        "time_end = time.time()\n",
        "print(\"elapsed time is %s\" % str(time_end-time_start))\n",
        "\n",
        "\n",
        "\n"
      ],
      "execution_count": null,
      "outputs": [
        {
          "output_type": "error",
          "ename": "ModuleNotFoundError",
          "evalue": "ignored",
          "traceback": [
            "\u001b[0;31m---------------------------------------------------------------------------\u001b[0m",
            "\u001b[0;31mModuleNotFoundError\u001b[0m                       Traceback (most recent call last)",
            "\u001b[0;32m<ipython-input-2-e07aba15488d>\u001b[0m in \u001b[0;36m<module>\u001b[0;34m()\u001b[0m\n\u001b[1;32m      2\u001b[0m \u001b[0mCLUSTERS\u001b[0m \u001b[0;34m=\u001b[0m \u001b[0;36m21\u001b[0m\u001b[0;34m\u001b[0m\u001b[0;34m\u001b[0m\u001b[0m\n\u001b[1;32m      3\u001b[0m \u001b[0;32mimport\u001b[0m \u001b[0mrandom\u001b[0m\u001b[0;34m\u001b[0m\u001b[0;34m\u001b[0m\u001b[0m\n\u001b[0;32m----> 4\u001b[0;31m \u001b[0;32mfrom\u001b[0m \u001b[0mpyspark\u001b[0m\u001b[0;34m.\u001b[0m\u001b[0msql\u001b[0m \u001b[0;32mimport\u001b[0m \u001b[0mSQLContext\u001b[0m\u001b[0;34m\u001b[0m\u001b[0;34m\u001b[0m\u001b[0m\n\u001b[0m\u001b[1;32m      5\u001b[0m \u001b[0;32mimport\u001b[0m \u001b[0mnumpy\u001b[0m \u001b[0;32mas\u001b[0m \u001b[0mnp\u001b[0m\u001b[0;34m\u001b[0m\u001b[0;34m\u001b[0m\u001b[0m\n\u001b[1;32m      6\u001b[0m \u001b[0;32mimport\u001b[0m \u001b[0mmath\u001b[0m\u001b[0;34m\u001b[0m\u001b[0;34m\u001b[0m\u001b[0m\n",
            "\u001b[0;31mModuleNotFoundError\u001b[0m: No module named 'pyspark'",
            "",
            "\u001b[0;31m---------------------------------------------------------------------------\u001b[0;32m\nNOTE: If your import is failing due to a missing package, you can\nmanually install dependencies using either !pip or !apt.\n\nTo view examples of installing some common dependencies, click the\n\"Open Examples\" button below.\n\u001b[0;31m---------------------------------------------------------------------------\u001b[0m\n"
          ]
        }
      ]
    },
    {
      "cell_type": "code",
      "metadata": {
        "id": "xiD-oGrvwber"
      },
      "source": [
        ""
      ],
      "execution_count": null,
      "outputs": []
    }
  ]
}